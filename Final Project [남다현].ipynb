{
 "cells": [
  {
   "cell_type": "markdown",
   "id": "f65b673d",
   "metadata": {},
   "source": [
    "# Kaggle Project"
   ]
  },
  {
   "cell_type": "markdown",
   "id": "8f01a265",
   "metadata": {},
   "source": [
    "## Describe Your Dataset"
   ]
  },
  {
   "cell_type": "markdown",
   "id": "a4f2c779",
   "metadata": {},
   "source": [
    "**URL:** https://www.kaggle.com/datasets/uciml/pima-indians-diabetes-database"
   ]
  },
  {
   "cell_type": "markdown",
   "id": "2ee95bd2",
   "metadata": {},
   "source": [
    "**Task:** \n",
    "\n",
    "데이터 세트의 환자가 당뇨병이 있는지 여부를 예측하기 위한 모델 구축. \n",
    "\n",
    "이를 위해 5가지 모델을 구축해보고자 함\n",
    "* Logistic Regression\n",
    "* Decision Tree Classifier\n",
    "* Random Forest Classifier\n",
    "* SVC\n",
    "* Neural Network\n"
   ]
  },
  {
   "cell_type": "markdown",
   "id": "925b65df",
   "metadata": {},
   "source": [
    "**Datasets**\n",
    "\n",
    "이 데이터 세트는 피마 인디언 혈통인 최소 21세 이상의 여성들로부터 환자의 임신 횟수, BMI, 인슐린 수치, 연령 등 특정 측정을 기반으로 환자가 당뇨병이 있는지 여부를 예측하는 것을 목적으로 구성됨.\n",
    "\n",
    "총 768개의 환자 데이터로 구성되어 있으며, Train:Validation:Test=6:2:2 비율로 나눠서 진행하려고 함.\n",
    "\n",
    "* Train dataset: 60%(460개)\n",
    "\n",
    "* Validation dataset: 20%(154개)\n",
    "\n",
    "* Test dataset: 20%(154개)"
   ]
  },
  {
   "cell_type": "markdown",
   "id": "efd627a2",
   "metadata": {},
   "source": [
    "**Features(x):**\n",
    "\n",
    "8가지 feature로 구성\n",
    "\n",
    "* Pregnancies: 임신 횟수\n",
    "* Glucose: 경구 포도당 부하검사 2시간 후 혈장 포도당 농도\n",
    "* BloodPressure: 이완기 혈압(mm Hg)\n",
    "* SkinThickness: 삼두근 피부 두께(mm)\n",
    "* Insulin: 식후 2시간 후 혈청 인슐린(mu U/ml)\n",
    "* BMI: 체질량 지수(체중(kg)/(키(m))^2)\n",
    "* DiabetesPedigreeFunction: 당뇨병 혈통 함수\n",
    "* Age: 연령(세)"
   ]
  },
  {
   "cell_type": "markdown",
   "id": "07cad80b",
   "metadata": {},
   "source": [
    "**Target(y):**\n",
    "\n",
    "2가지 class로 분류\n",
    "\n",
    "* 0: 당뇨병이 아닌 환자\n",
    "* 1: 당뇨병 환자"
   ]
  },
  {
   "cell_type": "markdown",
   "id": "f6df73f8",
   "metadata": {},
   "source": [
    "---"
   ]
  },
  {
   "cell_type": "markdown",
   "id": "a3ccb4a7",
   "metadata": {},
   "source": [
    "## Build Your Model"
   ]
  },
  {
   "cell_type": "code",
   "execution_count": 75,
   "id": "a263bb6e",
   "metadata": {},
   "outputs": [],
   "source": [
    "import pandas as pd\n",
    "import numpy as np\n",
    "import torch\n",
    "import torch.nn as nn\n",
    "import torch.optim as optim\n",
    "import matplotlib.pyplot as plt\n",
    "from sklearn.model_selection import train_test_split, GridSearchCV\n",
    "from sklearn.preprocessing import StandardScaler, RobustScaler, MinMaxScaler\n",
    "from sklearn.linear_model import LogisticRegression\n",
    "from sklearn.tree import DecisionTreeClassifier\n",
    "from sklearn.ensemble import RandomForestClassifier\n",
    "from sklearn.svm import SVC\n",
    "from sklearn.metrics import roc_curve, roc_auc_score, accuracy_score"
   ]
  },
  {
   "cell_type": "markdown",
   "id": "575c8d37",
   "metadata": {},
   "source": [
    "### Data preprocessing"
   ]
  },
  {
   "cell_type": "code",
   "execution_count": 2,
   "id": "486febaa",
   "metadata": {},
   "outputs": [
    {
     "data": {
      "text/html": [
       "<div>\n",
       "<style scoped>\n",
       "    .dataframe tbody tr th:only-of-type {\n",
       "        vertical-align: middle;\n",
       "    }\n",
       "\n",
       "    .dataframe tbody tr th {\n",
       "        vertical-align: top;\n",
       "    }\n",
       "\n",
       "    .dataframe thead th {\n",
       "        text-align: right;\n",
       "    }\n",
       "</style>\n",
       "<table border=\"1\" class=\"dataframe\">\n",
       "  <thead>\n",
       "    <tr style=\"text-align: right;\">\n",
       "      <th></th>\n",
       "      <th>Pregnancies</th>\n",
       "      <th>Glucose</th>\n",
       "      <th>BloodPressure</th>\n",
       "      <th>SkinThickness</th>\n",
       "      <th>Insulin</th>\n",
       "      <th>BMI</th>\n",
       "      <th>DiabetesPedigreeFunction</th>\n",
       "      <th>Age</th>\n",
       "      <th>Outcome</th>\n",
       "    </tr>\n",
       "  </thead>\n",
       "  <tbody>\n",
       "    <tr>\n",
       "      <th>0</th>\n",
       "      <td>6</td>\n",
       "      <td>148</td>\n",
       "      <td>72</td>\n",
       "      <td>35</td>\n",
       "      <td>0</td>\n",
       "      <td>33.6</td>\n",
       "      <td>0.627</td>\n",
       "      <td>50</td>\n",
       "      <td>1</td>\n",
       "    </tr>\n",
       "    <tr>\n",
       "      <th>1</th>\n",
       "      <td>1</td>\n",
       "      <td>85</td>\n",
       "      <td>66</td>\n",
       "      <td>29</td>\n",
       "      <td>0</td>\n",
       "      <td>26.6</td>\n",
       "      <td>0.351</td>\n",
       "      <td>31</td>\n",
       "      <td>0</td>\n",
       "    </tr>\n",
       "    <tr>\n",
       "      <th>2</th>\n",
       "      <td>8</td>\n",
       "      <td>183</td>\n",
       "      <td>64</td>\n",
       "      <td>0</td>\n",
       "      <td>0</td>\n",
       "      <td>23.3</td>\n",
       "      <td>0.672</td>\n",
       "      <td>32</td>\n",
       "      <td>1</td>\n",
       "    </tr>\n",
       "    <tr>\n",
       "      <th>3</th>\n",
       "      <td>1</td>\n",
       "      <td>89</td>\n",
       "      <td>66</td>\n",
       "      <td>23</td>\n",
       "      <td>94</td>\n",
       "      <td>28.1</td>\n",
       "      <td>0.167</td>\n",
       "      <td>21</td>\n",
       "      <td>0</td>\n",
       "    </tr>\n",
       "    <tr>\n",
       "      <th>4</th>\n",
       "      <td>0</td>\n",
       "      <td>137</td>\n",
       "      <td>40</td>\n",
       "      <td>35</td>\n",
       "      <td>168</td>\n",
       "      <td>43.1</td>\n",
       "      <td>2.288</td>\n",
       "      <td>33</td>\n",
       "      <td>1</td>\n",
       "    </tr>\n",
       "    <tr>\n",
       "      <th>...</th>\n",
       "      <td>...</td>\n",
       "      <td>...</td>\n",
       "      <td>...</td>\n",
       "      <td>...</td>\n",
       "      <td>...</td>\n",
       "      <td>...</td>\n",
       "      <td>...</td>\n",
       "      <td>...</td>\n",
       "      <td>...</td>\n",
       "    </tr>\n",
       "    <tr>\n",
       "      <th>763</th>\n",
       "      <td>10</td>\n",
       "      <td>101</td>\n",
       "      <td>76</td>\n",
       "      <td>48</td>\n",
       "      <td>180</td>\n",
       "      <td>32.9</td>\n",
       "      <td>0.171</td>\n",
       "      <td>63</td>\n",
       "      <td>0</td>\n",
       "    </tr>\n",
       "    <tr>\n",
       "      <th>764</th>\n",
       "      <td>2</td>\n",
       "      <td>122</td>\n",
       "      <td>70</td>\n",
       "      <td>27</td>\n",
       "      <td>0</td>\n",
       "      <td>36.8</td>\n",
       "      <td>0.340</td>\n",
       "      <td>27</td>\n",
       "      <td>0</td>\n",
       "    </tr>\n",
       "    <tr>\n",
       "      <th>765</th>\n",
       "      <td>5</td>\n",
       "      <td>121</td>\n",
       "      <td>72</td>\n",
       "      <td>23</td>\n",
       "      <td>112</td>\n",
       "      <td>26.2</td>\n",
       "      <td>0.245</td>\n",
       "      <td>30</td>\n",
       "      <td>0</td>\n",
       "    </tr>\n",
       "    <tr>\n",
       "      <th>766</th>\n",
       "      <td>1</td>\n",
       "      <td>126</td>\n",
       "      <td>60</td>\n",
       "      <td>0</td>\n",
       "      <td>0</td>\n",
       "      <td>30.1</td>\n",
       "      <td>0.349</td>\n",
       "      <td>47</td>\n",
       "      <td>1</td>\n",
       "    </tr>\n",
       "    <tr>\n",
       "      <th>767</th>\n",
       "      <td>1</td>\n",
       "      <td>93</td>\n",
       "      <td>70</td>\n",
       "      <td>31</td>\n",
       "      <td>0</td>\n",
       "      <td>30.4</td>\n",
       "      <td>0.315</td>\n",
       "      <td>23</td>\n",
       "      <td>0</td>\n",
       "    </tr>\n",
       "  </tbody>\n",
       "</table>\n",
       "<p>768 rows × 9 columns</p>\n",
       "</div>"
      ],
      "text/plain": [
       "     Pregnancies  Glucose  BloodPressure  SkinThickness  Insulin   BMI  \\\n",
       "0              6      148             72             35        0  33.6   \n",
       "1              1       85             66             29        0  26.6   \n",
       "2              8      183             64              0        0  23.3   \n",
       "3              1       89             66             23       94  28.1   \n",
       "4              0      137             40             35      168  43.1   \n",
       "..           ...      ...            ...            ...      ...   ...   \n",
       "763           10      101             76             48      180  32.9   \n",
       "764            2      122             70             27        0  36.8   \n",
       "765            5      121             72             23      112  26.2   \n",
       "766            1      126             60              0        0  30.1   \n",
       "767            1       93             70             31        0  30.4   \n",
       "\n",
       "     DiabetesPedigreeFunction  Age  Outcome  \n",
       "0                       0.627   50        1  \n",
       "1                       0.351   31        0  \n",
       "2                       0.672   32        1  \n",
       "3                       0.167   21        0  \n",
       "4                       2.288   33        1  \n",
       "..                        ...  ...      ...  \n",
       "763                     0.171   63        0  \n",
       "764                     0.340   27        0  \n",
       "765                     0.245   30        0  \n",
       "766                     0.349   47        1  \n",
       "767                     0.315   23        0  \n",
       "\n",
       "[768 rows x 9 columns]"
      ]
     },
     "execution_count": 2,
     "metadata": {},
     "output_type": "execute_result"
    }
   ],
   "source": [
    "# Raw Data\n",
    "rData = pd.read_csv('/Users/dahyun/Downloads/archive/diabetes.csv')\n",
    "rData"
   ]
  },
  {
   "cell_type": "code",
   "execution_count": 3,
   "id": "68e9a22b",
   "metadata": {},
   "outputs": [
    {
     "data": {
      "text/plain": [
       "0    500\n",
       "1    268\n",
       "Name: Outcome, dtype: int64"
      ]
     },
     "execution_count": 3,
     "metadata": {},
     "output_type": "execute_result"
    }
   ],
   "source": [
    "# Data balance 확인\n",
    "rData['Outcome'].value_counts()"
   ]
  },
  {
   "cell_type": "code",
   "execution_count": 4,
   "id": "b3da6202",
   "metadata": {},
   "outputs": [
    {
     "data": {
      "text/plain": [
       "Pregnancies                 0\n",
       "Glucose                     0\n",
       "BloodPressure               0\n",
       "SkinThickness               0\n",
       "Insulin                     0\n",
       "BMI                         0\n",
       "DiabetesPedigreeFunction    0\n",
       "Age                         0\n",
       "Outcome                     0\n",
       "dtype: int64"
      ]
     },
     "execution_count": 4,
     "metadata": {},
     "output_type": "execute_result"
    }
   ],
   "source": [
    "# Missing values 확인\n",
    "rData.isnull().sum()"
   ]
  },
  {
   "cell_type": "code",
   "execution_count": 140,
   "id": "40c15d8e",
   "metadata": {},
   "outputs": [],
   "source": [
    "# Feature와 target을 분리\n",
    "X = rData.drop('Outcome', axis=1)\n",
    "y = rData['Outcome']\n",
    "\n",
    "# Train, Validation, Test set을 6:2:2 비율로 분리\n",
    "X_train, X_test, y_train, y_test = train_test_split(X, y, train_size=0.8, random_state=0)\n",
    "X_train, X_val, y_train, y_val = train_test_split(X_train, y_train, train_size=0.75, random_state=0)\n",
    "\n",
    "# Data scaling\n",
    "sc = StandardScaler()\n",
    "X_train_sc = sc.fit_transform(X_train)\n",
    "X_val_sc = sc.transform(X_val)\n",
    "X_test_sc = sc.transform(X_test)\n",
    "\n",
    "# Neural Network 모델을 위해 Tensor로 전환\n",
    "X_train_ts = torch.from_numpy(X_train_sc).float()\n",
    "X_val_ts = torch.from_numpy(X_val_sc).float()\n",
    "X_test_ts = torch.from_numpy(X_test_sc).float()\n",
    "\n",
    "y_train_ts = y_train.values\n",
    "y_val_ts = y_val.values\n",
    "y_test_ts = y_test.values\n",
    "\n",
    "y_train_ts = torch.from_numpy(y_train_ts).float()\n",
    "y_val_ts = torch.from_numpy(y_val_ts).float()\n",
    "y_test_ts = torch.from_numpy(y_test_ts).float()"
   ]
  },
  {
   "cell_type": "markdown",
   "id": "37a5ee14",
   "metadata": {},
   "source": [
    "### Model Construction"
   ]
  },
  {
   "cell_type": "code",
   "execution_count": 141,
   "id": "5145feec",
   "metadata": {},
   "outputs": [],
   "source": [
    "# Neural Network 모델을 위한 class 선언\n",
    "# 8->4->1 차원으로 설정, 2개의 fully connected layer\n",
    "class Net(nn.Module):\n",
    "    def __init__(self):\n",
    "        super(Net, self).__init__()\n",
    "        self.fc1 = nn.Linear(8,4)\n",
    "        self.fc2 = nn.Linear(4,1)\n",
    "        self.sigmoid = nn.Sigmoid()\n",
    "    \n",
    "    def forward(self, x):\n",
    "        x = self.fc1(x)\n",
    "        x = self.sigmoid(x)\n",
    "        x = self.fc2(x)\n",
    "        x = self.sigmoid(x)\n",
    "        return x"
   ]
  },
  {
   "cell_type": "markdown",
   "id": "e814c018",
   "metadata": {},
   "source": [
    "### Train Model & Select Model"
   ]
  },
  {
   "cell_type": "markdown",
   "id": "032b3388",
   "metadata": {},
   "source": [
    "**Logistic Regression**"
   ]
  },
  {
   "cell_type": "code",
   "execution_count": 7,
   "id": "3ff296ca",
   "metadata": {},
   "outputs": [
    {
     "name": "stdout",
     "output_type": "stream",
     "text": [
      "최적 하이퍼 파라미터: {'C': 0.5, 'max_iter': 50}\n"
     ]
    }
   ],
   "source": [
    "# GridSearchCV를 이용한 하이퍼 파라미터 튜닝\n",
    "params = {'C':[0.5,1,3,5,7,10],\n",
    "          'max_iter':[50,100,200,300,500]}\n",
    "lr = LogisticRegression(random_state=0)\n",
    "gs = GridSearchCV(lr, params, cv=5, n_jobs=-1)\n",
    "gs.fit(X_train_sc, y_train)\n",
    "\n",
    "print('최적 하이퍼 파라미터:',gs.best_params_)"
   ]
  },
  {
   "cell_type": "code",
   "execution_count": 8,
   "id": "6dcbadfd",
   "metadata": {
    "scrolled": false
   },
   "outputs": [
    {
     "name": "stdout",
     "output_type": "stream",
     "text": [
      "--------------------------------------------------\n",
      "Accuracy score of Logistic regression\n",
      "--------------------------------------------------\n",
      "Train: 78.26%\n",
      "Validation: 74.68%\n",
      "Test: 83.77%\n",
      "--------------------------------------------------\n"
     ]
    },
    {
     "data": {
      "image/png": "[encoded data removed]",
      "text/plain": [
       "<Figure size 400x400 with 1 Axes>"
      ]
     },
     "metadata": {},
     "output_type": "display_data"
    }
   ],
   "source": [
    "lr = LogisticRegression(C=0.5, max_iter=50, random_state=0)\n",
    "\n",
    "lr.fit(X_train_sc, y_train)\n",
    "\n",
    "# Accuracy Score 출력\n",
    "print('-'*50)\n",
    "print('Accuracy score of Logistic regression')\n",
    "print('-'*50)\n",
    "\n",
    "pre = lr.predict(X_train_sc)\n",
    "print(f'Train: {round(accuracy_score(y_train, pre)*100,2)}%')\n",
    "\n",
    "pre = lr.predict(X_val_sc)\n",
    "print(f'Validation: {round(accuracy_score(y_val, pre)*100,2)}%')\n",
    "\n",
    "pre = lr.predict(X_test_sc)\n",
    "print(f'Test: {round(accuracy_score(y_test, pre)*100,2)}%')\n",
    "print('-'*50)\n",
    "\n",
    "# ROC curve 생성\n",
    "lr_train_probs = lr.predict_proba(X_train_sc)[:,1]\n",
    "lr_test_probs = lr.predict_proba(X_test_sc)[:,1]\n",
    "\n",
    "lr_train_fpr, lr_train_tpr, lr_train_ = roc_curve(y_train, lr_train_probs)\n",
    "lr_test_fpr, lr_test_tpr, lr_test_ = roc_curve(y_test, lr_test_probs)\n",
    "\n",
    "plt.figure(figsize=(4,4))\n",
    "plt.plot(lr_train_fpr, lr_train_tpr, color='lightgray', marker='.', label=f'train (AUC={round(roc_auc_score(y_train, lr_train_probs),2)})')\n",
    "plt.plot(lr_test_fpr, lr_test_tpr, color='dodgerblue', marker='.', label=f'test (AUC={round(roc_auc_score(y_test, lr_test_probs),2)})')\n",
    "plt.plot([0,1],[0,1], color='lightgray',linestyle='--')\n",
    "plt.title('ROC curve - Logistic Regression')\n",
    "plt.xlabel('False Positive Rate (FPR)')\n",
    "plt.ylabel('True Positive Rate (TPR)')\n",
    "plt.legend(loc='lower right')\n",
    "plt.show()"
   ]
  },
  {
   "cell_type": "markdown",
   "id": "b755fbed",
   "metadata": {},
   "source": [
    "**Decision Tree Classifier**"
   ]
  },
  {
   "cell_type": "code",
   "execution_count": 9,
   "id": "ae7739cd",
   "metadata": {},
   "outputs": [
    {
     "name": "stdout",
     "output_type": "stream",
     "text": [
      "최적 하이퍼 파라미터: {'criterion': 'entropy', 'max_depth': 2, 'min_samples_split': 2, 'splitter': 'best'}\n"
     ]
    }
   ],
   "source": [
    "# GridSearchCV를 이용한 하이퍼 파라미터 튜닝\n",
    "params = {'criterion' : ['gini','entropy'],\n",
    "          'splitter' : ['best','random'],\n",
    "          'max_depth' : [i for i in range(1,10)],\n",
    "          'min_samples_split' : [i for i in range(2,10)]}\n",
    "dtc = DecisionTreeClassifier(random_state=0)\n",
    "gs = GridSearchCV(dtc, params, cv=5, n_jobs=-1)\n",
    "gs.fit(X_train_sc, y_train)\n",
    "\n",
    "print('최적 하이퍼 파라미터:',gs.best_params_)"
   ]
  },
  {
   "cell_type": "code",
   "execution_count": 10,
   "id": "b1a3f9c1",
   "metadata": {},
   "outputs": [
    {
     "name": "stdout",
     "output_type": "stream",
     "text": [
      "--------------------------------------------------\n",
      "Accuracy score of Decision Tree Classifier\n",
      "--------------------------------------------------\n",
      "Train: 77.17%\n",
      "Validation: 74.03%\n",
      "Test: 76.62%\n",
      "--------------------------------------------------\n"
     ]
    },
    {
     "data": {
      "image/png": "[encoded data removed]",
      "text/plain": [
       "<Figure size 400x400 with 1 Axes>"
      ]
     },
     "metadata": {},
     "output_type": "display_data"
    }
   ],
   "source": [
    "dtc = DecisionTreeClassifier(criterion='entropy', max_depth=2, min_samples_split=2, splitter='best', random_state=0)\n",
    "\n",
    "dtc.fit(X_train_sc, y_train)\n",
    "\n",
    "# Accuracy Score 출력\n",
    "print('-'*50)\n",
    "print('Accuracy score of Decision Tree Classifier')\n",
    "print('-'*50)\n",
    "\n",
    "pre = dtc.predict(X_train_sc)\n",
    "print(f'Train: {round(accuracy_score(y_train, pre)*100,2)}%')\n",
    "\n",
    "pre = dtc.predict(X_val_sc)\n",
    "print(f'Validation: {round(accuracy_score(y_val, pre)*100,2)}%')\n",
    "\n",
    "pre = dtc.predict(X_test_sc)\n",
    "print(f'Test: {round(accuracy_score(y_test, pre)*100,2)}%')\n",
    "print('-'*50)\n",
    "\n",
    "# ROC curve 생성\n",
    "dtc_train_probs = dtc.predict_proba(X_train_sc)[:,1]\n",
    "dtc_test_probs = dtc.predict_proba(X_test_sc)[:,1]\n",
    "\n",
    "dtc_train_fpr, dtc_train_tpr, dtc_train_ = roc_curve(y_train, dtc_train_probs)\n",
    "dtc_test_fpr, dtc_test_tpr, dtc_test_ = roc_curve(y_test, dtc_test_probs)\n",
    "\n",
    "plt.figure(figsize=(4,4))\n",
    "plt.plot(dtc_train_fpr, dtc_train_tpr, color='lightgray', marker='.', label=f'train (AUC={round(roc_auc_score(y_train, dtc_train_probs),2)})')\n",
    "plt.plot(dtc_test_fpr, dtc_test_tpr, color='dodgerblue', marker='.', label=f'test (AUC={round(roc_auc_score(y_test, dtc_test_probs),2)})')\n",
    "plt.plot([0,1],[0,1], color='lightgray',linestyle='--')\n",
    "plt.title('ROC curve - Decision Tree Classifier')\n",
    "plt.xlabel('False Positive Rate (FPR)')\n",
    "plt.ylabel('True Positive Rate (TPR)')\n",
    "plt.legend(loc='lower right')\n",
    "plt.show()"
   ]
  },
  {
   "cell_type": "markdown",
   "id": "206d1c01",
   "metadata": {},
   "source": [
    "**Random Forest Classifier**"
   ]
  },
  {
   "cell_type": "code",
   "execution_count": 11,
   "id": "46ed35fb",
   "metadata": {},
   "outputs": [
    {
     "name": "stdout",
     "output_type": "stream",
     "text": [
      "최적 하이퍼 파라미터: {'max_depth': 9, 'min_samples_leaf': 9, 'min_samples_split': 2, 'n_estimators': 10}\n"
     ]
    }
   ],
   "source": [
    "# GridSearchCV를 이용한 하이퍼 파라미터 튜닝\n",
    "params = {'n_estimators' : [10, 50, 100, 150, 200],\n",
    "          'max_depth' : [i for i in range(1,10)],\n",
    "          'min_samples_leaf' : [i for i in range(1,10)],\n",
    "          'min_samples_split' : [i for i in range(2,10)]}\n",
    "rfc = RandomForestClassifier(random_state=0)\n",
    "gs = GridSearchCV(rfc, params, cv=5, n_jobs=-1)\n",
    "gs.fit(X_train_sc, y_train)\n",
    "\n",
    "print('최적 하이퍼 파라미터:',gs.best_params_)"
   ]
  },
  {
   "cell_type": "code",
   "execution_count": 12,
   "id": "3812acd6",
   "metadata": {},
   "outputs": [
    {
     "name": "stdout",
     "output_type": "stream",
     "text": [
      "--------------------------------------------------\n",
      "Accuracy score of Random Forest Classifier\n",
      "--------------------------------------------------\n",
      "Train: 83.91%\n",
      "Validation: 74.68%\n",
      "Test: 84.42%\n",
      "--------------------------------------------------\n"
     ]
    },
    {
     "data": {
      "image/png": "[encoded data removed]",
      "text/plain": [
       "<Figure size 400x400 with 1 Axes>"
      ]
     },
     "metadata": {},
     "output_type": "display_data"
    }
   ],
   "source": [
    "rfc = RandomForestClassifier(max_depth=9, min_samples_leaf=9, min_samples_split=2, n_estimators=10, random_state=0)\n",
    "\n",
    "rfc.fit(X_train_sc, y_train)\n",
    "\n",
    "# Accuracy Score 출력\n",
    "print('-'*50)\n",
    "print('Accuracy score of Random Forest Classifier')\n",
    "print('-'*50)\n",
    "\n",
    "pre = rfc.predict(X_train_sc)\n",
    "print(f'Train: {round(accuracy_score(y_train, pre)*100,2)}%')\n",
    "\n",
    "pre = rfc.predict(X_val_sc)\n",
    "print(f'Validation: {round(accuracy_score(y_val, pre)*100,2)}%')\n",
    "\n",
    "pre = rfc.predict(X_test_sc)\n",
    "print(f'Test: {round(accuracy_score(y_test, pre)*100,2)}%')\n",
    "print('-'*50)\n",
    "\n",
    "# ROC curve 생성\n",
    "rfc_train_probs = rfc.predict_proba(X_train_sc)[:,1]\n",
    "rfc_test_probs = rfc.predict_proba(X_test_sc)[:,1]\n",
    "\n",
    "rfc_train_fpr, rfc_train_tpr, rfc_train_ = roc_curve(y_train, rfc_train_probs)\n",
    "rfc_test_fpr, rfc_test_tpr, rfc_test_ = roc_curve(y_test, rfc_test_probs)\n",
    "\n",
    "plt.figure(figsize=(4,4))\n",
    "plt.plot(rfc_train_fpr, rfc_train_tpr, color='lightgray', marker='.', label=f'train (AUC={round(roc_auc_score(y_train, rfc_train_probs),2)})')\n",
    "plt.plot(rfc_test_fpr, rfc_test_tpr, color='dodgerblue', marker='.', label=f'test (AUC={round(roc_auc_score(y_test, rfc_test_probs),2)})')\n",
    "plt.plot([0,1],[0,1], color='lightgray',linestyle='--')\n",
    "plt.title('ROC curve - Random Forest Classifier')\n",
    "plt.xlabel('False Positive Rate (FPR)')\n",
    "plt.ylabel('True Positive Rate (TPR)')\n",
    "plt.legend(loc='lower right')\n",
    "plt.show()"
   ]
  },
  {
   "cell_type": "markdown",
   "id": "79ffb871",
   "metadata": {},
   "source": [
    "**SVC**"
   ]
  },
  {
   "cell_type": "code",
   "execution_count": 13,
   "id": "83ae83a1",
   "metadata": {},
   "outputs": [
    {
     "name": "stdout",
     "output_type": "stream",
     "text": [
      "최적 하이퍼 파라미터: {'C': 0.01, 'gamma': 'scale', 'kernel': 'linear'}\n"
     ]
    }
   ],
   "source": [
    "# GridSearchCV를 이용한 하이퍼 파라미터 튜닝\n",
    "params = {'C':[0.01, 0.1, 1, 10],\n",
    "          'kernel':['linear', 'rbf'],\n",
    "          'gamma':['scale','auto']}\n",
    "svc = SVC(random_state=0)\n",
    "gs = GridSearchCV(svc, params, cv=5, n_jobs=-1)\n",
    "gs.fit(X_train_sc, y_train)\n",
    "\n",
    "print('최적 하이퍼 파라미터:',gs.best_params_)"
   ]
  },
  {
   "cell_type": "code",
   "execution_count": 14,
   "id": "dca8c362",
   "metadata": {},
   "outputs": [
    {
     "name": "stdout",
     "output_type": "stream",
     "text": [
      "--------------------------------------------------\n",
      "Accuracy score of SVC\n",
      "--------------------------------------------------\n",
      "Train: 76.96%\n",
      "Validation: 74.68%\n",
      "Test: 84.42%\n",
      "--------------------------------------------------\n"
     ]
    },
    {
     "data": {
      "image/png": "[encoded data removed]",
      "text/plain": [
       "<Figure size 400x400 with 1 Axes>"
      ]
     },
     "metadata": {},
     "output_type": "display_data"
    }
   ],
   "source": [
    "svc = SVC(C=0.01, gamma='scale', kernel='linear', probability=True, random_state=0)\n",
    "\n",
    "svc.fit(X_train_sc, y_train)\n",
    "\n",
    "# Accuracy Score 출력\n",
    "print('-'*50)\n",
    "print('Accuracy score of SVC')\n",
    "print('-'*50)\n",
    "\n",
    "pre = svc.predict(X_train_sc)\n",
    "print(f'Train: {round(accuracy_score(y_train, pre)*100,2)}%')\n",
    "\n",
    "pre = svc.predict(X_val_sc)\n",
    "print(f'Validation: {round(accuracy_score(y_val, pre)*100,2)}%')\n",
    "\n",
    "pre = svc.predict(X_test_sc)\n",
    "print(f'Test: {round(accuracy_score(y_test, pre)*100,2)}%')\n",
    "print('-'*50)\n",
    "\n",
    "# ROC curve 생성\n",
    "svc_train_probs = svc.predict_proba(X_train_sc)[:,1]\n",
    "svc_test_probs = svc.predict_proba(X_test_sc)[:,1]\n",
    "\n",
    "svc_train_fpr, svc_train_tpr, svc_train_ = roc_curve(y_train, svc_train_probs)\n",
    "svc_test_fpr, svc_test_tpr, svc_test_ = roc_curve(y_test, svc_test_probs)\n",
    "\n",
    "plt.figure(figsize=(4,4))\n",
    "plt.plot(svc_train_fpr, svc_train_tpr, color='lightgray', marker='.', label=f'train (AUC={round(roc_auc_score(y_train, svc_train_probs),2)})')\n",
    "plt.plot(svc_test_fpr, svc_test_tpr, color='dodgerblue', marker='.', label=f'test (AUC={round(roc_auc_score(y_test, svc_test_probs),2)})')\n",
    "plt.plot([0,1],[0,1], color='lightgray',linestyle='--')\n",
    "plt.title('ROC curve - SVC')\n",
    "plt.xlabel('False Positive Rate (FPR)')\n",
    "plt.ylabel('True Positive Rate (TPR)')\n",
    "plt.legend(loc='lower right')\n",
    "plt.show()"
   ]
  },
  {
   "cell_type": "markdown",
   "id": "9b4919c1",
   "metadata": {},
   "source": [
    "**Neural Network**"
   ]
  },
  {
   "cell_type": "code",
   "execution_count": 144,
   "id": "5046fde8",
   "metadata": {
    "scrolled": true
   },
   "outputs": [
    {
     "name": "stdout",
     "output_type": "stream",
     "text": [
      "Epoch [1000/10000], Loss: 0.4292\n",
      "Epoch [2000/10000], Loss: 0.4115\n",
      "Epoch [3000/10000], Loss: 0.4033\n",
      "Epoch [4000/10000], Loss: 0.3970\n",
      "Epoch [5000/10000], Loss: 0.3928\n",
      "Epoch [6000/10000], Loss: 0.3899\n",
      "Epoch [7000/10000], Loss: 0.3877\n",
      "Epoch [8000/10000], Loss: 0.3859\n",
      "Epoch [9000/10000], Loss: 0.3841\n",
      "Epoch [10000/10000], Loss: 0.3818\n"
     ]
    }
   ],
   "source": [
    "torch.manual_seed(0)\n",
    "net = Net()\n",
    "loss = nn.BCELoss() # Loss 함수는 BCE\n",
    "optimizer = optim.Adam(net.parameters(),lr=0.01) # 보통 Adam을 쓴다고 하여 Adam으로 진행\n",
    "\n",
    "num_epochs = 10000\n",
    "\n",
    "for epoch in range(num_epochs):\n",
    "   \n",
    "    pre = net(X_train_ts)\n",
    "    cost = loss(pre, y_train_ts.view(-1,1))\n",
    "    \n",
    "    optimizer.zero_grad()\n",
    "    cost.backward()\n",
    "    optimizer.step()\n",
    "    \n",
    "    if (epoch+1)%1000 == 0:\n",
    "        print('Epoch [%d/%d], Loss: %.4f' %(epoch+1, num_epochs, cost.item()))"
   ]
  },
  {
   "cell_type": "code",
   "execution_count": 145,
   "id": "7d12332a",
   "metadata": {},
   "outputs": [
    {
     "name": "stdout",
     "output_type": "stream",
     "text": [
      "--------------------------------------------------\n",
      "Accuracy score of Neural Network\n",
      "--------------------------------------------------\n",
      "Validation: 74.03%\n",
      "Test: 73.38%\n",
      "--------------------------------------------------\n"
     ]
    }
   ],
   "source": [
    "print('-'*50)\n",
    "print('Accuracy score of Neural Network')\n",
    "print('-'*50)\n",
    "\n",
    "# 모델 평가 및 정확도 출력\n",
    "net.eval()\n",
    "with torch.no_grad():\n",
    "    outputs = net(X_val_ts)\n",
    "    predicted = torch.round(outputs)\n",
    "    accuracy = (predicted == y_val_ts.view(-1, 1)).sum().float() / len(y_val_ts)\n",
    "    print(f'Validation: {round(accuracy.item()*100,2)}%')\n",
    "\n",
    "with torch.no_grad():\n",
    "    outputs = net(X_test_ts)\n",
    "    predicted = torch.round(outputs)\n",
    "    accuracy = (predicted == y_test_ts.view(-1, 1)).sum().float() / len(y_test_ts)\n",
    "    print(f'Test: {round(accuracy.item()*100,2)}%')\n",
    "\n",
    "print('-'*50)"
   ]
  },
  {
   "cell_type": "markdown",
   "id": "a2dea6f0",
   "metadata": {},
   "source": [
    "---"
   ]
  },
  {
   "cell_type": "markdown",
   "id": "8779c8f2",
   "metadata": {},
   "source": [
    "## Performance"
   ]
  },
  {
   "cell_type": "code",
   "execution_count": 146,
   "id": "dae89af7",
   "metadata": {},
   "outputs": [
    {
     "data": {
      "image/png": "[encoded data removed]",
      "text/plain": [
       "<Figure size 600x400 with 1 Axes>"
      ]
     },
     "metadata": {},
     "output_type": "display_data"
    }
   ],
   "source": [
    "# 위에서 구축한 5가지 모델의 정확도 비교\n",
    "x = ['LR','DTC','RFC','SVC','NN']\n",
    "y = [83.77, 76.62, 84.42, 84.42, round(accuracy.item()*100,2)]\n",
    "\n",
    "# Bar plot 생성\n",
    "plt.figure(figsize=(6,4))\n",
    "plt.title('Comparing models with accuracy')\n",
    "plt.xlabel('Model')\n",
    "plt.ylabel('Accuracy Score')\n",
    "plt.bar(x, y, width=0.6, color=['pink','pink','red','red','pink'])\n",
    "plt.ylim(70,100)\n",
    "for i, v in enumerate(x):\n",
    "    plt.text(v, y[i], y[i],\n",
    "            fontsize = 9,\n",
    "            horizontalalignment='center',\n",
    "            verticalalignment='bottom')"
   ]
  },
  {
   "cell_type": "markdown",
   "id": "6b8524a6",
   "metadata": {},
   "source": [
    "---"
   ]
  },
  {
   "cell_type": "markdown",
   "id": "c2e203ec",
   "metadata": {},
   "source": [
    "## Summary"
   ]
  },
  {
   "cell_type": "markdown",
   "id": "afa2652e",
   "metadata": {},
   "source": [
    "* Data Preprocessing = StandardScaler사용하여 표준화\n",
    "\n",
    "* 모델 구축 시 사용 알고리즘 = 머신러닝 알고리즘 4가지(Logistic Regression, Decision Tree Classifier, Random Forest Classifier, Support Vector Classification), 딥러닝 알고리즘 1가지(Neural Network)\n",
    "\n",
    "* 머신러닝 = GridSearchCV로 하이퍼파라미터 튜닝\n",
    "\n",
    "* 딥러닝 = 8->4->1차원으로 진행, Fully connected layer, activation function = Sigmoid, Loss function = BCE, Optimizer = Adam"
   ]
  },
  {
   "cell_type": "markdown",
   "id": "0e716670",
   "metadata": {},
   "source": [
    "---"
   ]
  },
  {
   "cell_type": "markdown",
   "id": "0fa06d0c",
   "metadata": {},
   "source": [
    "### 1. 특정 값을 제거한다면?"
   ]
  },
  {
   "cell_type": "code",
   "execution_count": 18,
   "id": "23987334",
   "metadata": {},
   "outputs": [
    {
     "data": {
      "text/html": [
       "<div>\n",
       "<style scoped>\n",
       "    .dataframe tbody tr th:only-of-type {\n",
       "        vertical-align: middle;\n",
       "    }\n",
       "\n",
       "    .dataframe tbody tr th {\n",
       "        vertical-align: top;\n",
       "    }\n",
       "\n",
       "    .dataframe thead th {\n",
       "        text-align: right;\n",
       "    }\n",
       "</style>\n",
       "<table border=\"1\" class=\"dataframe\">\n",
       "  <thead>\n",
       "    <tr style=\"text-align: right;\">\n",
       "      <th></th>\n",
       "      <th>Pregnancies</th>\n",
       "      <th>Glucose</th>\n",
       "      <th>BloodPressure</th>\n",
       "      <th>SkinThickness</th>\n",
       "      <th>Insulin</th>\n",
       "      <th>BMI</th>\n",
       "      <th>DiabetesPedigreeFunction</th>\n",
       "      <th>Age</th>\n",
       "      <th>Outcome</th>\n",
       "    </tr>\n",
       "  </thead>\n",
       "  <tbody>\n",
       "    <tr>\n",
       "      <th>count</th>\n",
       "      <td>768.000000</td>\n",
       "      <td>768.000000</td>\n",
       "      <td>768.000000</td>\n",
       "      <td>768.000000</td>\n",
       "      <td>768.000000</td>\n",
       "      <td>768.000000</td>\n",
       "      <td>768.000000</td>\n",
       "      <td>768.000000</td>\n",
       "      <td>768.000000</td>\n",
       "    </tr>\n",
       "    <tr>\n",
       "      <th>mean</th>\n",
       "      <td>3.845052</td>\n",
       "      <td>120.894531</td>\n",
       "      <td>69.105469</td>\n",
       "      <td>20.536458</td>\n",
       "      <td>79.799479</td>\n",
       "      <td>31.992578</td>\n",
       "      <td>0.471876</td>\n",
       "      <td>33.240885</td>\n",
       "      <td>0.348958</td>\n",
       "    </tr>\n",
       "    <tr>\n",
       "      <th>std</th>\n",
       "      <td>3.369578</td>\n",
       "      <td>31.972618</td>\n",
       "      <td>19.355807</td>\n",
       "      <td>15.952218</td>\n",
       "      <td>115.244002</td>\n",
       "      <td>7.884160</td>\n",
       "      <td>0.331329</td>\n",
       "      <td>11.760232</td>\n",
       "      <td>0.476951</td>\n",
       "    </tr>\n",
       "    <tr>\n",
       "      <th>min</th>\n",
       "      <td>0.000000</td>\n",
       "      <td>0.000000</td>\n",
       "      <td>0.000000</td>\n",
       "      <td>0.000000</td>\n",
       "      <td>0.000000</td>\n",
       "      <td>0.000000</td>\n",
       "      <td>0.078000</td>\n",
       "      <td>21.000000</td>\n",
       "      <td>0.000000</td>\n",
       "    </tr>\n",
       "    <tr>\n",
       "      <th>25%</th>\n",
       "      <td>1.000000</td>\n",
       "      <td>99.000000</td>\n",
       "      <td>62.000000</td>\n",
       "      <td>0.000000</td>\n",
       "      <td>0.000000</td>\n",
       "      <td>27.300000</td>\n",
       "      <td>0.243750</td>\n",
       "      <td>24.000000</td>\n",
       "      <td>0.000000</td>\n",
       "    </tr>\n",
       "    <tr>\n",
       "      <th>50%</th>\n",
       "      <td>3.000000</td>\n",
       "      <td>117.000000</td>\n",
       "      <td>72.000000</td>\n",
       "      <td>23.000000</td>\n",
       "      <td>30.500000</td>\n",
       "      <td>32.000000</td>\n",
       "      <td>0.372500</td>\n",
       "      <td>29.000000</td>\n",
       "      <td>0.000000</td>\n",
       "    </tr>\n",
       "    <tr>\n",
       "      <th>75%</th>\n",
       "      <td>6.000000</td>\n",
       "      <td>140.250000</td>\n",
       "      <td>80.000000</td>\n",
       "      <td>32.000000</td>\n",
       "      <td>127.250000</td>\n",
       "      <td>36.600000</td>\n",
       "      <td>0.626250</td>\n",
       "      <td>41.000000</td>\n",
       "      <td>1.000000</td>\n",
       "    </tr>\n",
       "    <tr>\n",
       "      <th>max</th>\n",
       "      <td>17.000000</td>\n",
       "      <td>199.000000</td>\n",
       "      <td>122.000000</td>\n",
       "      <td>99.000000</td>\n",
       "      <td>846.000000</td>\n",
       "      <td>67.100000</td>\n",
       "      <td>2.420000</td>\n",
       "      <td>81.000000</td>\n",
       "      <td>1.000000</td>\n",
       "    </tr>\n",
       "  </tbody>\n",
       "</table>\n",
       "</div>"
      ],
      "text/plain": [
       "       Pregnancies     Glucose  BloodPressure  SkinThickness     Insulin  \\\n",
       "count   768.000000  768.000000     768.000000     768.000000  768.000000   \n",
       "mean      3.845052  120.894531      69.105469      20.536458   79.799479   \n",
       "std       3.369578   31.972618      19.355807      15.952218  115.244002   \n",
       "min       0.000000    0.000000       0.000000       0.000000    0.000000   \n",
       "25%       1.000000   99.000000      62.000000       0.000000    0.000000   \n",
       "50%       3.000000  117.000000      72.000000      23.000000   30.500000   \n",
       "75%       6.000000  140.250000      80.000000      32.000000  127.250000   \n",
       "max      17.000000  199.000000     122.000000      99.000000  846.000000   \n",
       "\n",
       "              BMI  DiabetesPedigreeFunction         Age     Outcome  \n",
       "count  768.000000                768.000000  768.000000  768.000000  \n",
       "mean    31.992578                  0.471876   33.240885    0.348958  \n",
       "std      7.884160                  0.331329   11.760232    0.476951  \n",
       "min      0.000000                  0.078000   21.000000    0.000000  \n",
       "25%     27.300000                  0.243750   24.000000    0.000000  \n",
       "50%     32.000000                  0.372500   29.000000    0.000000  \n",
       "75%     36.600000                  0.626250   41.000000    1.000000  \n",
       "max     67.100000                  2.420000   81.000000    1.000000  "
      ]
     },
     "execution_count": 18,
     "metadata": {},
     "output_type": "execute_result"
    }
   ],
   "source": [
    "rData.describe()"
   ]
  },
  {
   "cell_type": "code",
   "execution_count": 19,
   "id": "744116e2",
   "metadata": {},
   "outputs": [
    {
     "data": {
      "text/plain": [
       "Pregnancies                   0\n",
       "Glucose                       5\n",
       "BloodPressure                35\n",
       "SkinThickness               227\n",
       "Insulin                     374\n",
       "BMI                          11\n",
       "DiabetesPedigreeFunction      0\n",
       "Age                           0\n",
       "Outcome                       0\n",
       "dtype: int64"
      ]
     },
     "execution_count": 19,
     "metadata": {},
     "output_type": "execute_result"
    }
   ],
   "source": [
    "Data = rData.copy(deep=True)\n",
    "Data[['Glucose','BloodPressure','SkinThickness','Insulin','BMI']] = Data[['Glucose','BloodPressure','SkinThickness','Insulin','BMI']].replace(0, np.NaN)\n",
    "Data.isnull().sum()"
   ]
  },
  {
   "cell_type": "code",
   "execution_count": 20,
   "id": "4d08da56",
   "metadata": {},
   "outputs": [
    {
     "data": {
      "text/html": [
       "<div>\n",
       "<style scoped>\n",
       "    .dataframe tbody tr th:only-of-type {\n",
       "        vertical-align: middle;\n",
       "    }\n",
       "\n",
       "    .dataframe tbody tr th {\n",
       "        vertical-align: top;\n",
       "    }\n",
       "\n",
       "    .dataframe thead th {\n",
       "        text-align: right;\n",
       "    }\n",
       "</style>\n",
       "<table border=\"1\" class=\"dataframe\">\n",
       "  <thead>\n",
       "    <tr style=\"text-align: right;\">\n",
       "      <th></th>\n",
       "      <th>Pregnancies</th>\n",
       "      <th>Glucose</th>\n",
       "      <th>BloodPressure</th>\n",
       "      <th>SkinThickness</th>\n",
       "      <th>Insulin</th>\n",
       "      <th>BMI</th>\n",
       "      <th>DiabetesPedigreeFunction</th>\n",
       "      <th>Age</th>\n",
       "      <th>Outcome</th>\n",
       "    </tr>\n",
       "  </thead>\n",
       "  <tbody>\n",
       "    <tr>\n",
       "      <th>3</th>\n",
       "      <td>1</td>\n",
       "      <td>89.0</td>\n",
       "      <td>66.0</td>\n",
       "      <td>23.0</td>\n",
       "      <td>94.0</td>\n",
       "      <td>28.1</td>\n",
       "      <td>0.167</td>\n",
       "      <td>21</td>\n",
       "      <td>0</td>\n",
       "    </tr>\n",
       "    <tr>\n",
       "      <th>4</th>\n",
       "      <td>0</td>\n",
       "      <td>137.0</td>\n",
       "      <td>40.0</td>\n",
       "      <td>35.0</td>\n",
       "      <td>168.0</td>\n",
       "      <td>43.1</td>\n",
       "      <td>2.288</td>\n",
       "      <td>33</td>\n",
       "      <td>1</td>\n",
       "    </tr>\n",
       "    <tr>\n",
       "      <th>6</th>\n",
       "      <td>3</td>\n",
       "      <td>78.0</td>\n",
       "      <td>50.0</td>\n",
       "      <td>32.0</td>\n",
       "      <td>88.0</td>\n",
       "      <td>31.0</td>\n",
       "      <td>0.248</td>\n",
       "      <td>26</td>\n",
       "      <td>1</td>\n",
       "    </tr>\n",
       "    <tr>\n",
       "      <th>8</th>\n",
       "      <td>2</td>\n",
       "      <td>197.0</td>\n",
       "      <td>70.0</td>\n",
       "      <td>45.0</td>\n",
       "      <td>543.0</td>\n",
       "      <td>30.5</td>\n",
       "      <td>0.158</td>\n",
       "      <td>53</td>\n",
       "      <td>1</td>\n",
       "    </tr>\n",
       "    <tr>\n",
       "      <th>13</th>\n",
       "      <td>1</td>\n",
       "      <td>189.0</td>\n",
       "      <td>60.0</td>\n",
       "      <td>23.0</td>\n",
       "      <td>846.0</td>\n",
       "      <td>30.1</td>\n",
       "      <td>0.398</td>\n",
       "      <td>59</td>\n",
       "      <td>1</td>\n",
       "    </tr>\n",
       "    <tr>\n",
       "      <th>...</th>\n",
       "      <td>...</td>\n",
       "      <td>...</td>\n",
       "      <td>...</td>\n",
       "      <td>...</td>\n",
       "      <td>...</td>\n",
       "      <td>...</td>\n",
       "      <td>...</td>\n",
       "      <td>...</td>\n",
       "      <td>...</td>\n",
       "    </tr>\n",
       "    <tr>\n",
       "      <th>753</th>\n",
       "      <td>0</td>\n",
       "      <td>181.0</td>\n",
       "      <td>88.0</td>\n",
       "      <td>44.0</td>\n",
       "      <td>510.0</td>\n",
       "      <td>43.3</td>\n",
       "      <td>0.222</td>\n",
       "      <td>26</td>\n",
       "      <td>1</td>\n",
       "    </tr>\n",
       "    <tr>\n",
       "      <th>755</th>\n",
       "      <td>1</td>\n",
       "      <td>128.0</td>\n",
       "      <td>88.0</td>\n",
       "      <td>39.0</td>\n",
       "      <td>110.0</td>\n",
       "      <td>36.5</td>\n",
       "      <td>1.057</td>\n",
       "      <td>37</td>\n",
       "      <td>1</td>\n",
       "    </tr>\n",
       "    <tr>\n",
       "      <th>760</th>\n",
       "      <td>2</td>\n",
       "      <td>88.0</td>\n",
       "      <td>58.0</td>\n",
       "      <td>26.0</td>\n",
       "      <td>16.0</td>\n",
       "      <td>28.4</td>\n",
       "      <td>0.766</td>\n",
       "      <td>22</td>\n",
       "      <td>0</td>\n",
       "    </tr>\n",
       "    <tr>\n",
       "      <th>763</th>\n",
       "      <td>10</td>\n",
       "      <td>101.0</td>\n",
       "      <td>76.0</td>\n",
       "      <td>48.0</td>\n",
       "      <td>180.0</td>\n",
       "      <td>32.9</td>\n",
       "      <td>0.171</td>\n",
       "      <td>63</td>\n",
       "      <td>0</td>\n",
       "    </tr>\n",
       "    <tr>\n",
       "      <th>765</th>\n",
       "      <td>5</td>\n",
       "      <td>121.0</td>\n",
       "      <td>72.0</td>\n",
       "      <td>23.0</td>\n",
       "      <td>112.0</td>\n",
       "      <td>26.2</td>\n",
       "      <td>0.245</td>\n",
       "      <td>30</td>\n",
       "      <td>0</td>\n",
       "    </tr>\n",
       "  </tbody>\n",
       "</table>\n",
       "<p>392 rows × 9 columns</p>\n",
       "</div>"
      ],
      "text/plain": [
       "     Pregnancies  Glucose  BloodPressure  SkinThickness  Insulin   BMI  \\\n",
       "3              1     89.0           66.0           23.0     94.0  28.1   \n",
       "4              0    137.0           40.0           35.0    168.0  43.1   \n",
       "6              3     78.0           50.0           32.0     88.0  31.0   \n",
       "8              2    197.0           70.0           45.0    543.0  30.5   \n",
       "13             1    189.0           60.0           23.0    846.0  30.1   \n",
       "..           ...      ...            ...            ...      ...   ...   \n",
       "753            0    181.0           88.0           44.0    510.0  43.3   \n",
       "755            1    128.0           88.0           39.0    110.0  36.5   \n",
       "760            2     88.0           58.0           26.0     16.0  28.4   \n",
       "763           10    101.0           76.0           48.0    180.0  32.9   \n",
       "765            5    121.0           72.0           23.0    112.0  26.2   \n",
       "\n",
       "     DiabetesPedigreeFunction  Age  Outcome  \n",
       "3                       0.167   21        0  \n",
       "4                       2.288   33        1  \n",
       "6                       0.248   26        1  \n",
       "8                       0.158   53        1  \n",
       "13                      0.398   59        1  \n",
       "..                        ...  ...      ...  \n",
       "753                     0.222   26        1  \n",
       "755                     1.057   37        1  \n",
       "760                     0.766   22        0  \n",
       "763                     0.171   63        0  \n",
       "765                     0.245   30        0  \n",
       "\n",
       "[392 rows x 9 columns]"
      ]
     },
     "execution_count": 20,
     "metadata": {},
     "output_type": "execute_result"
    }
   ],
   "source": [
    "Data = Data.dropna(axis=0)\n",
    "Data"
   ]
  },
  {
   "cell_type": "code",
   "execution_count": 21,
   "id": "d1afdbb0",
   "metadata": {},
   "outputs": [
    {
     "data": {
      "text/plain": [
       "0    262\n",
       "1    130\n",
       "Name: Outcome, dtype: int64"
      ]
     },
     "execution_count": 21,
     "metadata": {},
     "output_type": "execute_result"
    }
   ],
   "source": [
    "Data['Outcome'].value_counts()"
   ]
  },
  {
   "cell_type": "code",
   "execution_count": 147,
   "id": "4d6a91f5",
   "metadata": {},
   "outputs": [],
   "source": [
    "# Feature와 target을 분리\n",
    "X = Data.drop('Outcome', axis=1)\n",
    "y = Data['Outcome']\n",
    "\n",
    "# Train, Validation, Test set을 6:2:2 비율로 분리\n",
    "X_train, X_test, y_train, y_test = train_test_split(X, y, train_size=0.8, random_state=0)\n",
    "X_train, X_val, y_train, y_val = train_test_split(X_train, y_train, train_size=0.75, random_state=0)\n",
    "\n",
    "# Data scaling\n",
    "sc = StandardScaler()\n",
    "X_train_sc = sc.fit_transform(X_train)\n",
    "X_val_sc = sc.transform(X_val)\n",
    "X_test_sc = sc.transform(X_test)\n",
    "\n",
    "# Neural Network 모델을 위해 Tensor로 전환\n",
    "X_train_ts = torch.from_numpy(X_train_sc).float()\n",
    "X_val_ts = torch.from_numpy(X_val_sc).float()\n",
    "X_test_ts = torch.from_numpy(X_test_sc).float()\n",
    "\n",
    "y_train_ts = y_train.values\n",
    "y_val_ts = y_val.values\n",
    "y_test_ts = y_test.values\n",
    "\n",
    "y_train_ts = torch.from_numpy(y_train_ts).float()\n",
    "y_val_ts = torch.from_numpy(y_val_ts).float()\n",
    "y_test_ts = torch.from_numpy(y_test_ts).float()"
   ]
  },
  {
   "cell_type": "code",
   "execution_count": 149,
   "id": "8b6ecf73",
   "metadata": {},
   "outputs": [
    {
     "name": "stdout",
     "output_type": "stream",
     "text": [
      "Epoch [1000/10000], Loss: 0.3118\n",
      "Epoch [2000/10000], Loss: 0.2795\n",
      "Epoch [3000/10000], Loss: 0.2680\n",
      "Epoch [4000/10000], Loss: 0.2601\n",
      "Epoch [5000/10000], Loss: 0.2543\n",
      "Epoch [6000/10000], Loss: 0.2495\n",
      "Epoch [7000/10000], Loss: 0.2455\n",
      "Epoch [8000/10000], Loss: 0.2422\n",
      "Epoch [9000/10000], Loss: 0.2396\n",
      "Epoch [10000/10000], Loss: 0.2373\n"
     ]
    }
   ],
   "source": [
    "torch.manual_seed(0)\n",
    "net = Net()\n",
    "loss = nn.BCELoss() # Loss 함수는 BCE\n",
    "optimizer = optim.Adam(net.parameters(),lr=0.01) # 보통 Adam을 쓴다고 하여 Adam으로 진행\n",
    "\n",
    "num_epochs = 10000\n",
    "\n",
    "for epoch in range(num_epochs):\n",
    "   \n",
    "    pre = net(X_train_ts)\n",
    "    cost = loss(pre, y_train_ts.view(-1,1))\n",
    "    \n",
    "    optimizer.zero_grad()\n",
    "    cost.backward()\n",
    "    optimizer.step()\n",
    "    \n",
    "    if (epoch+1)%1000 == 0:\n",
    "        print('Epoch [%d/%d], Loss: %.4f' %(epoch+1, num_epochs, cost.item()))"
   ]
  },
  {
   "cell_type": "code",
   "execution_count": 150,
   "id": "f5c50b2d",
   "metadata": {},
   "outputs": [
    {
     "name": "stdout",
     "output_type": "stream",
     "text": [
      "--------------------------------------------------\n",
      "Accuracy score of Neural Network\n",
      "--------------------------------------------------\n",
      "Validation: 73.38%\n",
      "Test: 81.01%\n",
      "--------------------------------------------------\n"
     ]
    }
   ],
   "source": [
    "print('-'*50)\n",
    "print('Accuracy score of Neural Network')\n",
    "print('-'*50)\n",
    "\n",
    "# 모델 평가 및 정확도 출력\n",
    "net.eval()\n",
    "with torch.no_grad():\n",
    "    outputs = net(X_val_ts)\n",
    "    predicted = torch.round(outputs)\n",
    "    accuracy2 = (predicted == y_val_ts.view(-1, 1)).sum().float() / len(y_val_ts)\n",
    "    print(f'Validation: {round(accuracy.item()*100,2)}%')\n",
    "\n",
    "with torch.no_grad():\n",
    "    outputs = net(X_test_ts)\n",
    "    predicted = torch.round(outputs)\n",
    "    accuracy2 = (predicted == y_test_ts.view(-1, 1)).sum().float() / len(y_test_ts)\n",
    "    print(f'Test: {round(accuracy2.item()*100,2)}%')\n",
    "\n",
    "print('-'*50)"
   ]
  },
  {
   "cell_type": "markdown",
   "id": "42a547e3",
   "metadata": {},
   "source": [
    "### Performance"
   ]
  },
  {
   "cell_type": "code",
   "execution_count": 151,
   "id": "3633d249",
   "metadata": {},
   "outputs": [
    {
     "data": {
      "image/png": "[encoded data removed]",
      "text/plain": [
       "<Figure size 400x300 with 1 Axes>"
      ]
     },
     "metadata": {},
     "output_type": "display_data"
    }
   ],
   "source": [
    "x = ['NN','NN_rm0']\n",
    "y = [round(accuracy.item()*100,2), round(accuracy2.item()*100,2)]\n",
    "\n",
    "# Bar plot 생성\n",
    "plt.figure(figsize=(4,3))\n",
    "plt.title('Comparing models with accuracy')\n",
    "plt.xlabel('Model')\n",
    "plt.ylabel('Accuracy Score')\n",
    "plt.bar(x, y, width=0.6, color=['pink','skyblue'])\n",
    "plt.xticks(rotation=45)\n",
    "plt.ylim(60,100)\n",
    "for i, v in enumerate(x):\n",
    "    plt.text(v, y[i], y[i],\n",
    "            fontsize = 9,\n",
    "            horizontalalignment='center',\n",
    "            verticalalignment='bottom')"
   ]
  },
  {
   "cell_type": "markdown",
   "id": "9d827131",
   "metadata": {},
   "source": [
    "---"
   ]
  },
  {
   "cell_type": "markdown",
   "id": "1ead2ede",
   "metadata": {},
   "source": [
    "### 2. Scaler에 변화를 준다면?"
   ]
  },
  {
   "cell_type": "code",
   "execution_count": 26,
   "id": "6e7e3f06",
   "metadata": {},
   "outputs": [
    {
     "data": {
      "text/plain": [
       "Index(['Pregnancies', 'Glucose', 'BloodPressure', 'SkinThickness', 'Insulin',\n",
       "       'BMI', 'DiabetesPedigreeFunction', 'Age', 'Outcome'],\n",
       "      dtype='object')"
      ]
     },
     "execution_count": 26,
     "metadata": {},
     "output_type": "execute_result"
    }
   ],
   "source": [
    "Data.columns"
   ]
  },
  {
   "cell_type": "code",
   "execution_count": 27,
   "id": "138693a0",
   "metadata": {},
   "outputs": [
    {
     "data": {
      "text/plain": [
       "([<matplotlib.axis.XTick at 0x1c85c09cb50>,\n",
       "  <matplotlib.axis.XTick at 0x1c85c09cb20>,\n",
       "  <matplotlib.axis.XTick at 0x1c85be9ddf0>,\n",
       "  <matplotlib.axis.XTick at 0x1c85c3219a0>,\n",
       "  <matplotlib.axis.XTick at 0x1c85bf51070>,\n",
       "  <matplotlib.axis.XTick at 0x1c85bf51730>,\n",
       "  <matplotlib.axis.XTick at 0x1c85bf51e80>,\n",
       "  <matplotlib.axis.XTick at 0x1c85bf57610>,\n",
       "  <matplotlib.axis.XTick at 0x1c85bf57d60>],\n",
       " [Text(1, 0, 'Pregnancies'),\n",
       "  Text(2, 0, 'Glucose'),\n",
       "  Text(3, 0, 'BloodPressure'),\n",
       "  Text(4, 0, 'SkinThickness'),\n",
       "  Text(5, 0, 'Insulin'),\n",
       "  Text(6, 0, 'BMI'),\n",
       "  Text(7, 0, 'DiabetesPedigreeFunction'),\n",
       "  Text(8, 0, 'Age'),\n",
       "  Text(9, 0, 'Outcome')])"
      ]
     },
     "execution_count": 27,
     "metadata": {},
     "output_type": "execute_result"
    },
    {
     "data": {
      "image/png": "[encoded data removed]",
      "text/plain": [
       "<Figure size 640x480 with 1 Axes>"
      ]
     },
     "metadata": {},
     "output_type": "display_data"
    }
   ],
   "source": [
    "idx = np.arange(1,10)\n",
    "labels= ['Pregnancies', 'Glucose', 'BloodPressure', 'SkinThickness', 'Insulin',\n",
    "       'BMI', 'DiabetesPedigreeFunction', 'Age', 'Outcome']\n",
    "plt.boxplot(Data)\n",
    "plt.xticks(idx, labels, rotation=90)"
   ]
  },
  {
   "cell_type": "code",
   "execution_count": 152,
   "id": "9108df5b",
   "metadata": {},
   "outputs": [],
   "source": [
    "# Feature와 target을 분리\n",
    "X = Data.drop('Outcome', axis=1)\n",
    "y = Data['Outcome']\n",
    "\n",
    "# Train, Validation, Test set을 6:2:2 비율로 분리\n",
    "X_train, X_test, y_train, y_test = train_test_split(X, y, train_size=0.8, random_state=0)\n",
    "X_train, X_val, y_train, y_val = train_test_split(X_train, y_train, train_size=0.75, random_state=0)\n",
    "\n",
    "# Data scaling\n",
    "sc = RobustScaler()\n",
    "X_train_sc = sc.fit_transform(X_train)\n",
    "X_val_sc = sc.transform(X_val)\n",
    "X_test_sc = sc.transform(X_test)\n",
    "\n",
    "# Neural Network 모델을 위해 Tensor로 전환\n",
    "X_train_ts = torch.from_numpy(X_train_sc).float()\n",
    "X_val_ts = torch.from_numpy(X_val_sc).float()\n",
    "X_test_ts = torch.from_numpy(X_test_sc).float()\n",
    "\n",
    "y_train_ts = y_train.values\n",
    "y_val_ts = y_val.values\n",
    "y_test_ts = y_test.values\n",
    "\n",
    "y_train_ts = torch.from_numpy(y_train_ts).float()\n",
    "y_val_ts = torch.from_numpy(y_val_ts).float()\n",
    "y_test_ts = torch.from_numpy(y_test_ts).float()"
   ]
  },
  {
   "cell_type": "code",
   "execution_count": 153,
   "id": "90d68e06",
   "metadata": {},
   "outputs": [
    {
     "name": "stdout",
     "output_type": "stream",
     "text": [
      "Epoch [1000/10000], Loss: 0.2922\n",
      "Epoch [2000/10000], Loss: 0.2096\n",
      "Epoch [3000/10000], Loss: 0.1952\n",
      "Epoch [4000/10000], Loss: 0.1840\n",
      "Epoch [5000/10000], Loss: 0.1751\n",
      "Epoch [6000/10000], Loss: 0.1703\n",
      "Epoch [7000/10000], Loss: 0.1673\n",
      "Epoch [8000/10000], Loss: 0.1652\n",
      "Epoch [9000/10000], Loss: 0.1635\n",
      "Epoch [10000/10000], Loss: 0.1622\n"
     ]
    }
   ],
   "source": [
    "torch.manual_seed(0)\n",
    "net = Net()\n",
    "loss = nn.BCELoss() # Loss 함수는 BCE\n",
    "optimizer = optim.Adam(net.parameters(),lr=0.01) # 보통 Adam을 쓴다고 하여 Adam으로 진행\n",
    "\n",
    "num_epochs = 10000\n",
    "\n",
    "for epoch in range(num_epochs):\n",
    "   \n",
    "    pre = net(X_train_ts)\n",
    "    cost = loss(pre, y_train_ts.view(-1,1))\n",
    "    \n",
    "    optimizer.zero_grad()\n",
    "    cost.backward()\n",
    "    optimizer.step()\n",
    "    \n",
    "    if (epoch+1)%1000 == 0:\n",
    "        print('Epoch [%d/%d], Loss: %.4f' %(epoch+1, num_epochs, cost.item()))"
   ]
  },
  {
   "cell_type": "code",
   "execution_count": 154,
   "id": "b2ea3efa",
   "metadata": {},
   "outputs": [
    {
     "name": "stdout",
     "output_type": "stream",
     "text": [
      "--------------------------------------------------\n",
      "Accuracy score of Neural Network\n",
      "--------------------------------------------------\n",
      "Validation: 73.38%\n",
      "Test: 79.75%\n",
      "--------------------------------------------------\n"
     ]
    }
   ],
   "source": [
    "print('-'*50)\n",
    "print('Accuracy score of Neural Network')\n",
    "print('-'*50)\n",
    "\n",
    "# 모델 평가 및 정확도 출력\n",
    "net.eval()\n",
    "with torch.no_grad():\n",
    "    outputs = net(X_val_ts)\n",
    "    predicted = torch.round(outputs)\n",
    "    accuracy3 = (predicted == y_val_ts.view(-1, 1)).sum().float() / len(y_val_ts)\n",
    "    print(f'Validation: {round(accuracy.item()*100,2)}%')\n",
    "\n",
    "with torch.no_grad():\n",
    "    outputs = net(X_test_ts)\n",
    "    predicted = torch.round(outputs)\n",
    "    accuracy3 = (predicted == y_test_ts.view(-1, 1)).sum().float() / len(y_test_ts)\n",
    "    print(f'Test: {round(accuracy3.item()*100,2)}%')\n",
    "\n",
    "print('-'*50)"
   ]
  },
  {
   "cell_type": "markdown",
   "id": "62b63db4",
   "metadata": {},
   "source": [
    "**Performance**"
   ]
  },
  {
   "cell_type": "code",
   "execution_count": 155,
   "id": "9d11a9e1",
   "metadata": {},
   "outputs": [
    {
     "data": {
      "image/png": "[encoded data removed]",
      "text/plain": [
       "<Figure size 500x400 with 1 Axes>"
      ]
     },
     "metadata": {},
     "output_type": "display_data"
    }
   ],
   "source": [
    "x = ['NN','standardNN_rm0','robustNN_rm0']\n",
    "y = [round(accuracy.item()*100,2), round(accuracy2.item()*100,2),round(accuracy3.item()*100,2)]\n",
    "\n",
    "# Bar plot 생성\n",
    "plt.figure(figsize=(5,4))\n",
    "plt.title('Comparing models with accuracy')\n",
    "plt.xlabel('Model')\n",
    "plt.ylabel('Accuracy Score')\n",
    "plt.bar(x, y, width=0.6, color=['pink','skyblue','gold'])\n",
    "plt.xticks(rotation=45)\n",
    "plt.ylim(60,100)\n",
    "for i, v in enumerate(x):\n",
    "    plt.text(v, y[i], y[i],\n",
    "            fontsize = 9,\n",
    "            horizontalalignment='center',\n",
    "            verticalalignment='bottom')"
   ]
  },
  {
   "cell_type": "markdown",
   "id": "605ad3d6",
   "metadata": {},
   "source": [
    "---"
   ]
  },
  {
   "cell_type": "markdown",
   "id": "b375ea45",
   "metadata": {},
   "source": [
    "### 3. Hidden layer를 바꾼다면?"
   ]
  },
  {
   "cell_type": "code",
   "execution_count": 188,
   "id": "00bd0487",
   "metadata": {},
   "outputs": [],
   "source": [
    "# Feature와 target을 분리\n",
    "X = Data.drop('Outcome', axis=1)\n",
    "y = Data['Outcome']\n",
    "\n",
    "# Train, Validation, Test set을 6:2:2 비율로 분리\n",
    "X_train, X_test, y_train, y_test = train_test_split(X, y, train_size=0.8, random_state=0)\n",
    "X_train, X_val, y_train, y_val = train_test_split(X_train, y_train, train_size=0.75, random_state=0)\n",
    "\n",
    "# Data scaling\n",
    "sc = StandardScaler()\n",
    "X_train_sc = sc.fit_transform(X_train)\n",
    "X_val_sc = sc.transform(X_val)\n",
    "X_test_sc = sc.transform(X_test)\n",
    "\n",
    "# Neural Network 모델을 위해 Tensor로 전환\n",
    "X_train_ts = torch.from_numpy(X_train_sc).float()\n",
    "X_val_ts = torch.from_numpy(X_val_sc).float()\n",
    "X_test_ts = torch.from_numpy(X_test_sc).float()\n",
    "\n",
    "y_train_ts = y_train.values\n",
    "y_val_ts = y_val.values\n",
    "y_test_ts = y_test.values\n",
    "\n",
    "y_train_ts = torch.from_numpy(y_train_ts).float()\n",
    "y_val_ts = torch.from_numpy(y_val_ts).float()\n",
    "y_test_ts = torch.from_numpy(y_test_ts).float()"
   ]
  },
  {
   "cell_type": "markdown",
   "id": "702d3151",
   "metadata": {},
   "source": [
    "**Model1: 8->6->3->1 (hidden layer의 개수 변경)**"
   ]
  },
  {
   "cell_type": "code",
   "execution_count": 189,
   "id": "88cb3583",
   "metadata": {},
   "outputs": [],
   "source": [
    "class M1(nn.Module):\n",
    "    def __init__(self):\n",
    "        super(M1, self).__init__()\n",
    "        self.fc1 = nn.Linear(8,6)\n",
    "        self.fc2 = nn.Linear(6,3)\n",
    "        self.fc3 = nn.Linear(3,1)\n",
    "        self.sigmoid = nn.Sigmoid()\n",
    "    \n",
    "    def forward(self, x):\n",
    "        x = self.fc1(x)\n",
    "        x = self.sigmoid(x)\n",
    "        x = self.fc2(x)\n",
    "        x = self.sigmoid(x)\n",
    "        x = self.fc3(x)\n",
    "        x = self.sigmoid(x)\n",
    "        return x"
   ]
  },
  {
   "cell_type": "code",
   "execution_count": 190,
   "id": "779117fd",
   "metadata": {},
   "outputs": [
    {
     "name": "stdout",
     "output_type": "stream",
     "text": [
      "Epoch [1000/10000], Loss: 0.1660\n",
      "Epoch [2000/10000], Loss: 0.1241\n",
      "Epoch [3000/10000], Loss: 0.1108\n",
      "Epoch [4000/10000], Loss: 0.0793\n",
      "Epoch [5000/10000], Loss: 0.0758\n",
      "Epoch [6000/10000], Loss: 0.0733\n",
      "Epoch [7000/10000], Loss: 0.0718\n",
      "Epoch [8000/10000], Loss: 0.0709\n",
      "Epoch [9000/10000], Loss: 0.0701\n",
      "Epoch [10000/10000], Loss: 0.0678\n"
     ]
    }
   ],
   "source": [
    "torch.manual_seed(0)\n",
    "m1 = M1()\n",
    "loss = nn.BCELoss() # Loss 함수는 BCE\n",
    "optimizer = optim.Adam(m1.parameters(),lr=0.01)\n",
    "\n",
    "num_epochs = 10000\n",
    "\n",
    "for epoch in range(num_epochs):\n",
    "   \n",
    "    pre = m1(X_train_ts)\n",
    "    cost = loss(pre, y_train_ts.view(-1,1))\n",
    "    \n",
    "    optimizer.zero_grad()\n",
    "    cost.backward()\n",
    "    optimizer.step()\n",
    "    \n",
    "    if (epoch+1)%1000 == 0:\n",
    "        print('Epoch [%d/%d], Loss: %.4f' %(epoch+1, num_epochs, cost.item()))"
   ]
  },
  {
   "cell_type": "code",
   "execution_count": 191,
   "id": "840b7680",
   "metadata": {},
   "outputs": [
    {
     "name": "stdout",
     "output_type": "stream",
     "text": [
      "--------------------------------------------------\n",
      "Accuracy score of Neural Network\n",
      "--------------------------------------------------\n",
      "Validation: 74.68%\n",
      "Test: 79.75%\n",
      "--------------------------------------------------\n"
     ]
    }
   ],
   "source": [
    "print('-'*50)\n",
    "print('Accuracy score of Neural Network')\n",
    "print('-'*50)\n",
    "\n",
    "# 모델 평가 및 정확도 출력\n",
    "m1.eval()\n",
    "with torch.no_grad():\n",
    "    outputs = m1(X_val_ts)\n",
    "    predicted = torch.round(outputs)\n",
    "    accuracy4 = (predicted == y_val_ts.view(-1, 1)).sum().float() / len(y_val_ts)\n",
    "    print(f'Validation: {round(accuracy4.item()*100,2)}%')\n",
    "\n",
    "with torch.no_grad():\n",
    "    outputs = m1(X_test_ts)\n",
    "    predicted = torch.round(outputs)\n",
    "    accuracy4 = (predicted == y_test_ts.view(-1, 1)).sum().float() / len(y_test_ts)\n",
    "    print(f'Test: {round(accuracy4.item()*100,2)}%')\n",
    "\n",
    "print('-'*50)"
   ]
  },
  {
   "cell_type": "markdown",
   "id": "69258e4b",
   "metadata": {},
   "source": [
    "**Model2:8->16->1 (hidden layer의 차원 변경)**"
   ]
  },
  {
   "cell_type": "code",
   "execution_count": 192,
   "id": "a6d10317",
   "metadata": {},
   "outputs": [],
   "source": [
    "class M2(nn.Module):\n",
    "    def __init__(self):\n",
    "        super(M2, self).__init__()\n",
    "        self.fc1 = nn.Linear(8,16)\n",
    "        self.fc2 = nn.Linear(16,1)\n",
    "        self.sigmoid = nn.Sigmoid()\n",
    "    \n",
    "    def forward(self, x):\n",
    "        x = self.fc1(x)\n",
    "        x = self.sigmoid(x)\n",
    "        x = self.fc2(x)\n",
    "        x = self.sigmoid(x)\n",
    "        return x"
   ]
  },
  {
   "cell_type": "code",
   "execution_count": 193,
   "id": "6c3b4a47",
   "metadata": {},
   "outputs": [
    {
     "name": "stdout",
     "output_type": "stream",
     "text": [
      "Epoch [1000/10000], Loss: 0.0400\n",
      "Epoch [2000/10000], Loss: 0.0086\n",
      "Epoch [3000/10000], Loss: 0.0033\n",
      "Epoch [4000/10000], Loss: 0.0016\n",
      "Epoch [5000/10000], Loss: 0.0008\n",
      "Epoch [6000/10000], Loss: 0.0005\n",
      "Epoch [7000/10000], Loss: 0.0003\n",
      "Epoch [8000/10000], Loss: 0.0002\n",
      "Epoch [9000/10000], Loss: 0.0001\n",
      "Epoch [10000/10000], Loss: 0.0001\n"
     ]
    }
   ],
   "source": [
    "torch.manual_seed(0)\n",
    "m2 = M2()\n",
    "loss = nn.BCELoss() # Loss 함수는 BCE\n",
    "optimizer = optim.Adam(m2.parameters(),lr=0.01)\n",
    "\n",
    "num_epochs = 10000\n",
    "\n",
    "for epoch in range(num_epochs):\n",
    "   \n",
    "    pre = m2(X_train_ts)\n",
    "    cost = loss(pre, y_train_ts.view(-1,1))\n",
    "    \n",
    "    optimizer.zero_grad()\n",
    "    cost.backward()\n",
    "    optimizer.step()\n",
    "    \n",
    "    if (epoch+1)%1000 == 0:\n",
    "        print('Epoch [%d/%d], Loss: %.4f' %(epoch+1, num_epochs, cost.item()))"
   ]
  },
  {
   "cell_type": "code",
   "execution_count": 194,
   "id": "ea1e5a0f",
   "metadata": {},
   "outputs": [
    {
     "name": "stdout",
     "output_type": "stream",
     "text": [
      "--------------------------------------------------\n",
      "Accuracy score of Neural Network\n",
      "--------------------------------------------------\n",
      "Validation: 75.95%\n",
      "Test: 79.75%\n",
      "--------------------------------------------------\n"
     ]
    }
   ],
   "source": [
    "print('-'*50)\n",
    "print('Accuracy score of Neural Network')\n",
    "print('-'*50)\n",
    "\n",
    "# 모델 평가 및 정확도 출력\n",
    "m2.eval()\n",
    "with torch.no_grad():\n",
    "    outputs = m2(X_val_ts)\n",
    "    predicted = torch.round(outputs)\n",
    "    accuracy5 = (predicted == y_val_ts.view(-1, 1)).sum().float() / len(y_val_ts)\n",
    "    print(f'Validation: {round(accuracy5.item()*100,2)}%')\n",
    "\n",
    "with torch.no_grad():\n",
    "    outputs = m2(X_test_ts)\n",
    "    predicted = torch.round(outputs)\n",
    "    accuracy5 = (predicted == y_test_ts.view(-1, 1)).sum().float() / len(y_test_ts)\n",
    "    print(f'Test: {round(accuracy5.item()*100,2)}%')\n",
    "\n",
    "print('-'*50)"
   ]
  },
  {
   "cell_type": "code",
   "execution_count": 195,
   "id": "64c82831",
   "metadata": {},
   "outputs": [],
   "source": [
    "# Feature와 target을 분리\n",
    "X = Data.drop('Outcome', axis=1)\n",
    "y = Data['Outcome']\n",
    "\n",
    "# Train, Validation, Test set을 6:2:2 비율로 분리\n",
    "X_train, X_test, y_train, y_test = train_test_split(X, y, train_size=0.8, random_state=0)\n",
    "X_train, X_val, y_train, y_val = train_test_split(X_train, y_train, train_size=0.75, random_state=0)\n",
    "\n",
    "# Data scaling\n",
    "sc = RobustScaler()\n",
    "X_train_sc = sc.fit_transform(X_train)\n",
    "X_val_sc = sc.transform(X_val)\n",
    "X_test_sc = sc.transform(X_test)\n",
    "\n",
    "# Neural Network 모델을 위해 Tensor로 전환\n",
    "X_train_ts = torch.from_numpy(X_train_sc).float()\n",
    "X_val_ts = torch.from_numpy(X_val_sc).float()\n",
    "X_test_ts = torch.from_numpy(X_test_sc).float()\n",
    "\n",
    "y_train_ts = y_train.values\n",
    "y_val_ts = y_val.values\n",
    "y_test_ts = y_test.values\n",
    "\n",
    "y_train_ts = torch.from_numpy(y_train_ts).float()\n",
    "y_val_ts = torch.from_numpy(y_val_ts).float()\n",
    "y_test_ts = torch.from_numpy(y_test_ts).float()"
   ]
  },
  {
   "cell_type": "code",
   "execution_count": 196,
   "id": "34adea71",
   "metadata": {},
   "outputs": [
    {
     "name": "stdout",
     "output_type": "stream",
     "text": [
      "Epoch [1000/10000], Loss: 0.1957\n",
      "Epoch [2000/10000], Loss: 0.1658\n",
      "Epoch [3000/10000], Loss: 0.1063\n",
      "Epoch [4000/10000], Loss: 0.0870\n",
      "Epoch [5000/10000], Loss: 0.0760\n",
      "Epoch [6000/10000], Loss: 0.0537\n",
      "Epoch [7000/10000], Loss: 0.0521\n",
      "Epoch [8000/10000], Loss: 0.0513\n",
      "Epoch [9000/10000], Loss: 0.0503\n",
      "Epoch [10000/10000], Loss: 0.0467\n"
     ]
    }
   ],
   "source": [
    "torch.manual_seed(0)\n",
    "m1 = M1()\n",
    "loss = nn.BCELoss() # Loss 함수는 BCE\n",
    "optimizer = optim.Adam(m1.parameters(),lr=0.01)\n",
    "\n",
    "num_epochs = 10000\n",
    "\n",
    "for epoch in range(num_epochs):\n",
    "   \n",
    "    pre = m1(X_train_ts)\n",
    "    cost = loss(pre, y_train_ts.view(-1,1))\n",
    "    \n",
    "    optimizer.zero_grad()\n",
    "    cost.backward()\n",
    "    optimizer.step()\n",
    "    \n",
    "    if (epoch+1)%1000 == 0:\n",
    "        print('Epoch [%d/%d], Loss: %.4f' %(epoch+1, num_epochs, cost.item()))"
   ]
  },
  {
   "cell_type": "code",
   "execution_count": 197,
   "id": "6f9fbbb0",
   "metadata": {},
   "outputs": [
    {
     "name": "stdout",
     "output_type": "stream",
     "text": [
      "--------------------------------------------------\n",
      "Accuracy score of Neural Network\n",
      "--------------------------------------------------\n",
      "Validation: 64.56%\n",
      "Test: 68.35%\n",
      "--------------------------------------------------\n"
     ]
    }
   ],
   "source": [
    "print('-'*50)\n",
    "print('Accuracy score of Neural Network')\n",
    "print('-'*50)\n",
    "\n",
    "# 모델 평가 및 정확도 출력\n",
    "m1.eval()\n",
    "with torch.no_grad():\n",
    "    outputs = m1(X_val_ts)\n",
    "    predicted = torch.round(outputs)\n",
    "    accuracy6 = (predicted == y_val_ts.view(-1, 1)).sum().float() / len(y_val_ts)\n",
    "    print(f'Validation: {round(accuracy6.item()*100,2)}%')\n",
    "\n",
    "with torch.no_grad():\n",
    "    outputs = m1(X_test_ts)\n",
    "    predicted = torch.round(outputs)\n",
    "    accuracy6 = (predicted == y_test_ts.view(-1, 1)).sum().float() / len(y_test_ts)\n",
    "    print(f'Test: {round(accuracy6.item()*100,2)}%')\n",
    "\n",
    "print('-'*50)"
   ]
  },
  {
   "cell_type": "code",
   "execution_count": 198,
   "id": "dfdf66cd",
   "metadata": {},
   "outputs": [
    {
     "name": "stdout",
     "output_type": "stream",
     "text": [
      "Epoch [1000/10000], Loss: 0.0498\n",
      "Epoch [2000/10000], Loss: 0.0068\n",
      "Epoch [3000/10000], Loss: 0.0024\n",
      "Epoch [4000/10000], Loss: 0.0011\n",
      "Epoch [5000/10000], Loss: 0.0006\n",
      "Epoch [6000/10000], Loss: 0.0003\n",
      "Epoch [7000/10000], Loss: 0.0002\n",
      "Epoch [8000/10000], Loss: 0.0001\n",
      "Epoch [9000/10000], Loss: 0.0001\n",
      "Epoch [10000/10000], Loss: 0.0000\n"
     ]
    }
   ],
   "source": [
    "torch.manual_seed(0)\n",
    "m2 = M2()\n",
    "loss = nn.BCELoss() # Loss 함수는 BCE\n",
    "optimizer = optim.Adam(m2.parameters(),lr=0.01)\n",
    "\n",
    "num_epochs = 10000\n",
    "\n",
    "for epoch in range(num_epochs):\n",
    "   \n",
    "    pre = m2(X_train_ts)\n",
    "    cost = loss(pre, y_train_ts.view(-1,1))\n",
    "    \n",
    "    optimizer.zero_grad()\n",
    "    cost.backward()\n",
    "    optimizer.step()\n",
    "    \n",
    "    if (epoch+1)%1000 == 0:\n",
    "        print('Epoch [%d/%d], Loss: %.4f' %(epoch+1, num_epochs, cost.item()))"
   ]
  },
  {
   "cell_type": "code",
   "execution_count": 199,
   "id": "ddd20aa6",
   "metadata": {},
   "outputs": [
    {
     "name": "stdout",
     "output_type": "stream",
     "text": [
      "--------------------------------------------------\n",
      "Accuracy score of Neural Network\n",
      "--------------------------------------------------\n",
      "Validation: 75.95%\n",
      "Test: 81.01%\n",
      "--------------------------------------------------\n"
     ]
    }
   ],
   "source": [
    "print('-'*50)\n",
    "print('Accuracy score of Neural Network')\n",
    "print('-'*50)\n",
    "\n",
    "# 모델 평가 및 정확도 출력\n",
    "m2.eval()\n",
    "with torch.no_grad():\n",
    "    outputs = m2(X_val_ts)\n",
    "    predicted = torch.round(outputs)\n",
    "    accuracy7 = (predicted == y_val_ts.view(-1, 1)).sum().float() / len(y_val_ts)\n",
    "    print(f'Validation: {round(accuracy7.item()*100,2)}%')\n",
    "\n",
    "with torch.no_grad():\n",
    "    outputs = m2(X_test_ts)\n",
    "    predicted = torch.round(outputs)\n",
    "    accuracy7 = (predicted == y_test_ts.view(-1, 1)).sum().float() / len(y_test_ts)\n",
    "    print(f'Test: {round(accuracy7.item()*100,2)}%')\n",
    "\n",
    "print('-'*50)"
   ]
  },
  {
   "cell_type": "code",
   "execution_count": 184,
   "id": "e93aaaac",
   "metadata": {},
   "outputs": [
    {
     "data": {
      "image/png": "[encoded data removed]",
      "text/plain": [
       "<Figure size 500x400 with 1 Axes>"
      ]
     },
     "metadata": {},
     "output_type": "display_data"
    }
   ],
   "source": [
    "x = ['standardNN_m0','standardNN_m1','standardNN_m2','robustNN_m0','robustNN_m1','robustNN_m2']\n",
    "y = [round(accuracy2.item()*100,2),round(accuracy4.item()*100,2),round(accuracy6.item()*100,2),\n",
    "     round(accuracy3.item()*100,2),round(accuracy5.item()*100,2),round(accuracy7.item()*100,2)]\n",
    "\n",
    "# Bar plot 생성\n",
    "plt.figure(figsize=(5,4))\n",
    "plt.title('Comparing models with accuracy')\n",
    "plt.xlabel('Model')\n",
    "plt.ylabel('Accuracy Score')\n",
    "plt.bar(x, y, width=0.6, color=['pink','skyblue','gold'])\n",
    "plt.xticks(rotation=45)\n",
    "plt.ylim(60,100)\n",
    "for i, v in enumerate(x):\n",
    "    plt.text(v, y[i], y[i],\n",
    "            fontsize = 9,\n",
    "            horizontalalignment='center',\n",
    "            verticalalignment='bottom')"
   ]
  },
  {
   "cell_type": "markdown",
   "id": "12ed1fa4",
   "metadata": {},
   "source": [
    "---"
   ]
  },
  {
   "cell_type": "markdown",
   "id": "07f9a249",
   "metadata": {},
   "source": [
    "### 4. Activation Function을 바꾼다면?"
   ]
  },
  {
   "cell_type": "code",
   "execution_count": 136,
   "id": "5e9f183e",
   "metadata": {},
   "outputs": [],
   "source": [
    "import torch.nn.functional as F"
   ]
  },
  {
   "cell_type": "code",
   "execution_count": 217,
   "id": "b9388ef9",
   "metadata": {},
   "outputs": [],
   "source": [
    "class Net2(nn.Module):\n",
    "    def __init__(self):\n",
    "        super(Net2, self).__init__()\n",
    "        self.fc1 = nn.Linear(8,4)\n",
    "        self.fc2 = nn.Linear(4,1)\n",
    "        self.relu = nn.ReLU()\n",
    "        self.sigmoid = nn.Sigmoid()\n",
    "    \n",
    "    def forward(self, x):\n",
    "        x = self.fc1(x)\n",
    "        x = self.relu(x)\n",
    "        x = self.fc2(x)\n",
    "        x = self.sigmoid(x)\n",
    "        return x"
   ]
  },
  {
   "cell_type": "code",
   "execution_count": 218,
   "id": "d2931a72",
   "metadata": {},
   "outputs": [],
   "source": [
    "# Feature와 target을 분리\n",
    "X = Data.drop('Outcome', axis=1)\n",
    "y = Data['Outcome']\n",
    "\n",
    "# Train, Validation, Test set을 6:2:2 비율로 분리\n",
    "X_train, X_test, y_train, y_test = train_test_split(X, y, train_size=0.8, random_state=0)\n",
    "X_train, X_val, y_train, y_val = train_test_split(X_train, y_train, train_size=0.75, random_state=0)\n",
    "\n",
    "# Data scaling\n",
    "sc = StandardScaler()\n",
    "X_train_sc = sc.fit_transform(X_train)\n",
    "X_val_sc = sc.transform(X_val)\n",
    "X_test_sc = sc.transform(X_test)\n",
    "\n",
    "# Neural Network 모델을 위해 Tensor로 전환\n",
    "X_train_ts = torch.from_numpy(X_train_sc).float()\n",
    "X_val_ts = torch.from_numpy(X_val_sc).float()\n",
    "X_test_ts = torch.from_numpy(X_test_sc).float()\n",
    "\n",
    "y_train_ts = y_train.values\n",
    "y_val_ts = y_val.values\n",
    "y_test_ts = y_test.values\n",
    "\n",
    "y_train_ts = torch.from_numpy(y_train_ts).float()\n",
    "y_val_ts = torch.from_numpy(y_val_ts).float()\n",
    "y_test_ts = torch.from_numpy(y_test_ts).float()"
   ]
  },
  {
   "cell_type": "code",
   "execution_count": 219,
   "id": "1744d6a8",
   "metadata": {},
   "outputs": [
    {
     "name": "stdout",
     "output_type": "stream",
     "text": [
      "Epoch [1000/10000], Loss: 0.3685\n",
      "Epoch [2000/10000], Loss: 0.3678\n",
      "Epoch [3000/10000], Loss: 0.3678\n",
      "Epoch [4000/10000], Loss: 0.3679\n",
      "Epoch [5000/10000], Loss: 0.3679\n",
      "Epoch [6000/10000], Loss: 0.3678\n",
      "Epoch [7000/10000], Loss: 0.3678\n",
      "Epoch [8000/10000], Loss: 0.3679\n",
      "Epoch [9000/10000], Loss: 0.3679\n",
      "Epoch [10000/10000], Loss: 0.3678\n"
     ]
    }
   ],
   "source": [
    "torch.manual_seed(0)\n",
    "net2 = Net2()\n",
    "loss = nn.BCELoss() # Loss 함수는 BCE\n",
    "optimizer = optim.Adam(net2.parameters(),lr=0.01)\n",
    "\n",
    "num_epochs = 10000\n",
    "\n",
    "for epoch in range(num_epochs):\n",
    "   \n",
    "    pre = net2(X_train_ts)\n",
    "    cost = loss(pre, y_train_ts.view(-1,1))\n",
    "    \n",
    "    optimizer.zero_grad()\n",
    "    cost.backward()\n",
    "    optimizer.step()\n",
    "    \n",
    "    if (epoch+1)%1000 == 0:\n",
    "        print('Epoch [%d/%d], Loss: %.4f' %(epoch+1, num_epochs, cost.item()))"
   ]
  },
  {
   "cell_type": "code",
   "execution_count": 228,
   "id": "06c2cc72",
   "metadata": {},
   "outputs": [
    {
     "name": "stdout",
     "output_type": "stream",
     "text": [
      "--------------------------------------------------\n",
      "Accuracy score of Neural Network\n",
      "--------------------------------------------------\n",
      "Validation: 55.7%\n",
      "Test: 56.96%\n",
      "--------------------------------------------------\n"
     ]
    }
   ],
   "source": [
    "print('-'*50)\n",
    "print('Accuracy score of Neural Network')\n",
    "print('-'*50)\n",
    "\n",
    "# 모델 평가 및 정확도 출력\n",
    "net2.eval()\n",
    "with torch.no_grad():\n",
    "    outputs = net2(X_val_ts)\n",
    "    predicted = torch.round(outputs)\n",
    "    accuracy8 = (predicted == y_val_ts.view(-1, 1)).sum().float() / len(y_val_ts)\n",
    "    print(f'Validation: {round(accuracy8.item()*100,2)}%')\n",
    "\n",
    "with torch.no_grad():\n",
    "    outputs = net2(X_test_ts)\n",
    "    predicted = torch.round(outputs)\n",
    "    accuracy8 = (predicted == y_test_ts.view(-1, 1)).sum().float() / len(y_test_ts)\n",
    "    print(f'Test: {round(accuracy8.item()*100,2)}%')\n",
    "\n",
    "print('-'*50)"
   ]
  },
  {
   "cell_type": "code",
   "execution_count": 221,
   "id": "bf99e851",
   "metadata": {},
   "outputs": [],
   "source": [
    "class Net2_1(nn.Module):\n",
    "    def __init__(self):\n",
    "        super(Net2_1, self).__init__()\n",
    "        self.fc1 = nn.Linear(8,6)\n",
    "        self.fc2 = nn.Linear(6,3)\n",
    "        self.fc3 = nn.Linear(3,1)\n",
    "        self.relu = nn.ReLU()\n",
    "        self.sigmoid = nn.Sigmoid()\n",
    "    \n",
    "    def forward(self, x):\n",
    "        x = self.fc1(x)\n",
    "        x = self.relu(x)\n",
    "        x = self.fc2(x)\n",
    "        x = self.relu(x)\n",
    "        x = self.fc3(x)\n",
    "        x = self.sigmoid(x)\n",
    "        return x"
   ]
  },
  {
   "cell_type": "code",
   "execution_count": 224,
   "id": "5fb1644b",
   "metadata": {},
   "outputs": [
    {
     "name": "stdout",
     "output_type": "stream",
     "text": [
      "Epoch [1000/10000], Loss: 0.1512\n",
      "Epoch [2000/10000], Loss: 0.1355\n",
      "Epoch [3000/10000], Loss: 0.1281\n",
      "Epoch [4000/10000], Loss: 0.1217\n",
      "Epoch [5000/10000], Loss: 0.1131\n",
      "Epoch [6000/10000], Loss: 0.1088\n",
      "Epoch [7000/10000], Loss: 0.1191\n",
      "Epoch [8000/10000], Loss: 0.0951\n",
      "Epoch [9000/10000], Loss: 0.0914\n",
      "Epoch [10000/10000], Loss: 0.0900\n"
     ]
    }
   ],
   "source": [
    "torch.manual_seed(0)\n",
    "net2_1 = Net2_1()\n",
    "loss = nn.BCELoss() # Loss 함수는 BCE\n",
    "optimizer = optim.Adam(net2_1.parameters(),lr=0.01)\n",
    "\n",
    "num_epochs = 10000\n",
    "\n",
    "for epoch in range(num_epochs):\n",
    "   \n",
    "    pre = net2_1(X_train_ts)\n",
    "    cost = loss(pre, y_train_ts.view(-1,1))\n",
    "    \n",
    "    optimizer.zero_grad()\n",
    "    cost.backward()\n",
    "    optimizer.step()\n",
    "    \n",
    "    if (epoch+1)%1000 == 0:\n",
    "        print('Epoch [%d/%d], Loss: %.4f' %(epoch+1, num_epochs, cost.item()))"
   ]
  },
  {
   "cell_type": "code",
   "execution_count": 229,
   "id": "8da0e499",
   "metadata": {},
   "outputs": [
    {
     "name": "stdout",
     "output_type": "stream",
     "text": [
      "--------------------------------------------------\n",
      "Accuracy score of Neural Network\n",
      "--------------------------------------------------\n",
      "Validation: 75.95%\n",
      "Test: 73.42%\n",
      "--------------------------------------------------\n"
     ]
    }
   ],
   "source": [
    "print('-'*50)\n",
    "print('Accuracy score of Neural Network')\n",
    "print('-'*50)\n",
    "\n",
    "# 모델 평가 및 정확도 출력\n",
    "net2_1.eval()\n",
    "with torch.no_grad():\n",
    "    outputs = net2_1(X_val_ts)\n",
    "    predicted = torch.round(outputs)\n",
    "    accuracy9 = (predicted == y_val_ts.view(-1, 1)).sum().float() / len(y_val_ts)\n",
    "    print(f'Validation: {round(accuracy9.item()*100,2)}%')\n",
    "\n",
    "with torch.no_grad():\n",
    "    outputs = net2_1(X_test_ts)\n",
    "    predicted = torch.round(outputs)\n",
    "    accuracy9 = (predicted == y_test_ts.view(-1, 1)).sum().float() / len(y_test_ts)\n",
    "    print(f'Test: {round(accuracy9.item()*100,2)}%')\n",
    "\n",
    "print('-'*50)"
   ]
  },
  {
   "cell_type": "code",
   "execution_count": 230,
   "id": "d4256868",
   "metadata": {},
   "outputs": [],
   "source": [
    "class Net2_2(nn.Module):\n",
    "    def __init__(self):\n",
    "        super(Net2_2, self).__init__()\n",
    "        self.fc1 = nn.Linear(8,16)\n",
    "        self.fc2 = nn.Linear(16,1)\n",
    "        self.sigmoid = nn.Sigmoid()\n",
    "        self.relu = nn.ReLU()\n",
    "    \n",
    "    def forward(self, x):\n",
    "        x = self.fc1(x)\n",
    "        x = self.relu(x)\n",
    "        x = self.fc2(x)\n",
    "        x = self.sigmoid(x)\n",
    "        return x"
   ]
  },
  {
   "cell_type": "code",
   "execution_count": 231,
   "id": "9e17e30c",
   "metadata": {},
   "outputs": [
    {
     "name": "stdout",
     "output_type": "stream",
     "text": [
      "Epoch [1000/10000], Loss: 0.0207\n",
      "Epoch [2000/10000], Loss: 0.0026\n",
      "Epoch [3000/10000], Loss: 0.0008\n",
      "Epoch [4000/10000], Loss: 0.0003\n",
      "Epoch [5000/10000], Loss: 0.0002\n",
      "Epoch [6000/10000], Loss: 0.0001\n",
      "Epoch [7000/10000], Loss: 0.0000\n",
      "Epoch [8000/10000], Loss: 0.0000\n",
      "Epoch [9000/10000], Loss: 0.0000\n",
      "Epoch [10000/10000], Loss: 0.0000\n"
     ]
    }
   ],
   "source": [
    "torch.manual_seed(0)\n",
    "net2_2 = Net2_2()\n",
    "loss = nn.BCELoss() # Loss 함수는 BCE\n",
    "optimizer = optim.Adam(net2_2.parameters(),lr=0.01)\n",
    "\n",
    "num_epochs = 10000\n",
    "\n",
    "for epoch in range(num_epochs):\n",
    "   \n",
    "    pre = net2_2(X_train_ts)\n",
    "    cost = loss(pre, y_train_ts.view(-1,1))\n",
    "    \n",
    "    optimizer.zero_grad()\n",
    "    cost.backward()\n",
    "    optimizer.step()\n",
    "    \n",
    "    if (epoch+1)%1000 == 0:\n",
    "        print('Epoch [%d/%d], Loss: %.4f' %(epoch+1, num_epochs, cost.item()))"
   ]
  },
  {
   "cell_type": "code",
   "execution_count": 232,
   "id": "9f871718",
   "metadata": {},
   "outputs": [
    {
     "name": "stdout",
     "output_type": "stream",
     "text": [
      "--------------------------------------------------\n",
      "Accuracy score of Neural Network\n",
      "--------------------------------------------------\n",
      "Validation: 70.89%\n",
      "Test: 72.15%\n",
      "--------------------------------------------------\n"
     ]
    }
   ],
   "source": [
    "print('-'*50)\n",
    "print('Accuracy score of Neural Network')\n",
    "print('-'*50)\n",
    "\n",
    "# 모델 평가 및 정확도 출력\n",
    "net2_2.eval()\n",
    "with torch.no_grad():\n",
    "    outputs = net2_2(X_val_ts)\n",
    "    predicted = torch.round(outputs)\n",
    "    accuracy10 = (predicted == y_val_ts.view(-1, 1)).sum().float() / len(y_val_ts)\n",
    "    print(f'Validation: {round(accuracy10.item()*100,2)}%')\n",
    "\n",
    "with torch.no_grad():\n",
    "    outputs = net2_2(X_test_ts)\n",
    "    predicted = torch.round(outputs)\n",
    "    accuracy10 = (predicted == y_test_ts.view(-1, 1)).sum().float() / len(y_test_ts)\n",
    "    print(f'Test: {round(accuracy10.item()*100,2)}%')\n",
    "\n",
    "print('-'*50)"
   ]
  },
  {
   "cell_type": "code",
   "execution_count": 233,
   "id": "eacbb2f3",
   "metadata": {},
   "outputs": [],
   "source": [
    "# Feature와 target을 분리\n",
    "X = Data.drop('Outcome', axis=1)\n",
    "y = Data['Outcome']\n",
    "\n",
    "# Train, Validation, Test set을 6:2:2 비율로 분리\n",
    "X_train, X_test, y_train, y_test = train_test_split(X, y, train_size=0.8, random_state=0)\n",
    "X_train, X_val, y_train, y_val = train_test_split(X_train, y_train, train_size=0.75, random_state=0)\n",
    "\n",
    "# Data scaling\n",
    "sc = RobustScaler()\n",
    "X_train_sc = sc.fit_transform(X_train)\n",
    "X_val_sc = sc.transform(X_val)\n",
    "X_test_sc = sc.transform(X_test)\n",
    "\n",
    "# Neural Network 모델을 위해 Tensor로 전환\n",
    "X_train_ts = torch.from_numpy(X_train_sc).float()\n",
    "X_val_ts = torch.from_numpy(X_val_sc).float()\n",
    "X_test_ts = torch.from_numpy(X_test_sc).float()\n",
    "\n",
    "y_train_ts = y_train.values\n",
    "y_val_ts = y_val.values\n",
    "y_test_ts = y_test.values\n",
    "\n",
    "y_train_ts = torch.from_numpy(y_train_ts).float()\n",
    "y_val_ts = torch.from_numpy(y_val_ts).float()\n",
    "y_test_ts = torch.from_numpy(y_test_ts).float()"
   ]
  },
  {
   "cell_type": "code",
   "execution_count": 234,
   "id": "858fc605",
   "metadata": {},
   "outputs": [
    {
     "name": "stdout",
     "output_type": "stream",
     "text": [
      "Epoch [1000/10000], Loss: 0.3780\n",
      "Epoch [2000/10000], Loss: 0.3749\n",
      "Epoch [3000/10000], Loss: 0.3749\n",
      "Epoch [4000/10000], Loss: 0.3749\n",
      "Epoch [5000/10000], Loss: 0.3748\n",
      "Epoch [6000/10000], Loss: 0.3747\n",
      "Epoch [7000/10000], Loss: 0.3748\n",
      "Epoch [8000/10000], Loss: 0.3748\n",
      "Epoch [9000/10000], Loss: 0.3748\n",
      "Epoch [10000/10000], Loss: 0.3748\n"
     ]
    }
   ],
   "source": [
    "torch.manual_seed(0)\n",
    "net2 = Net2()\n",
    "loss = nn.BCELoss() # Loss 함수는 BCE\n",
    "optimizer = optim.Adam(net2.parameters(),lr=0.01)\n",
    "\n",
    "num_epochs = 10000\n",
    "\n",
    "for epoch in range(num_epochs):\n",
    "   \n",
    "    pre = net2(X_train_ts)\n",
    "    cost = loss(pre, y_train_ts.view(-1,1))\n",
    "    \n",
    "    optimizer.zero_grad()\n",
    "    cost.backward()\n",
    "    optimizer.step()\n",
    "    \n",
    "    if (epoch+1)%1000 == 0:\n",
    "        print('Epoch [%d/%d], Loss: %.4f' %(epoch+1, num_epochs, cost.item()))"
   ]
  },
  {
   "cell_type": "code",
   "execution_count": 240,
   "id": "280f37aa",
   "metadata": {},
   "outputs": [
    {
     "name": "stdout",
     "output_type": "stream",
     "text": [
      "--------------------------------------------------\n",
      "Accuracy score of Neural Network\n",
      "--------------------------------------------------\n",
      "Validation: 78.48%\n",
      "Test: 74.68%\n",
      "--------------------------------------------------\n"
     ]
    }
   ],
   "source": [
    "print('-'*50)\n",
    "print('Accuracy score of Neural Network')\n",
    "print('-'*50)\n",
    "\n",
    "# 모델 평가 및 정확도 출력\n",
    "net2.eval()\n",
    "with torch.no_grad():\n",
    "    outputs = net2(X_val_ts)\n",
    "    predicted = torch.round(outputs)\n",
    "    accuracy11 = (predicted == y_val_ts.view(-1, 1)).sum().float() / len(y_val_ts)\n",
    "    print(f'Validation: {round(accuracy11.item()*100,2)}%')\n",
    "\n",
    "with torch.no_grad():\n",
    "    outputs = net2(X_test_ts)\n",
    "    predicted = torch.round(outputs)\n",
    "    accuracy11 = (predicted == y_test_ts.view(-1, 1)).sum().float() / len(y_test_ts)\n",
    "    print(f'Test: {round(accuracy11.item()*100,2)}%')\n",
    "\n",
    "print('-'*50)"
   ]
  },
  {
   "cell_type": "code",
   "execution_count": 236,
   "id": "9fc39c1a",
   "metadata": {},
   "outputs": [
    {
     "name": "stdout",
     "output_type": "stream",
     "text": [
      "Epoch [1000/10000], Loss: 0.1485\n",
      "Epoch [2000/10000], Loss: 0.1313\n",
      "Epoch [3000/10000], Loss: 0.1268\n",
      "Epoch [4000/10000], Loss: 0.1232\n",
      "Epoch [5000/10000], Loss: 0.1210\n",
      "Epoch [6000/10000], Loss: 0.1203\n",
      "Epoch [7000/10000], Loss: 0.1194\n",
      "Epoch [8000/10000], Loss: 0.1188\n",
      "Epoch [9000/10000], Loss: 0.1178\n",
      "Epoch [10000/10000], Loss: 0.0971\n"
     ]
    }
   ],
   "source": [
    "torch.manual_seed(0)\n",
    "net2_1 = Net2_1()\n",
    "loss = nn.BCELoss() # Loss 함수는 BCE\n",
    "optimizer = optim.Adam(net2_1.parameters(),lr=0.01)\n",
    "\n",
    "num_epochs = 10000\n",
    "\n",
    "for epoch in range(num_epochs):\n",
    "   \n",
    "    pre = net2_1(X_train_ts)\n",
    "    cost = loss(pre, y_train_ts.view(-1,1))\n",
    "    \n",
    "    optimizer.zero_grad()\n",
    "    cost.backward()\n",
    "    optimizer.step()\n",
    "    \n",
    "    if (epoch+1)%1000 == 0:\n",
    "        print('Epoch [%d/%d], Loss: %.4f' %(epoch+1, num_epochs, cost.item()))"
   ]
  },
  {
   "cell_type": "code",
   "execution_count": 241,
   "id": "e4d52115",
   "metadata": {},
   "outputs": [
    {
     "name": "stdout",
     "output_type": "stream",
     "text": [
      "--------------------------------------------------\n",
      "Accuracy score of Neural Network\n",
      "--------------------------------------------------\n",
      "Validation: 70.89%\n",
      "Test: 77.22%\n",
      "--------------------------------------------------\n"
     ]
    }
   ],
   "source": [
    "print('-'*50)\n",
    "print('Accuracy score of Neural Network')\n",
    "print('-'*50)\n",
    "\n",
    "# 모델 평가 및 정확도 출력\n",
    "net2_1.eval()\n",
    "with torch.no_grad():\n",
    "    outputs = net2_1(X_val_ts)\n",
    "    predicted = torch.round(outputs)\n",
    "    accuracy12 = (predicted == y_val_ts.view(-1, 1)).sum().float() / len(y_val_ts)\n",
    "    print(f'Validation: {round(accuracy12.item()*100,2)}%')\n",
    "\n",
    "with torch.no_grad():\n",
    "    outputs = net2_1(X_test_ts)\n",
    "    predicted = torch.round(outputs)\n",
    "    accuracy12 = (predicted == y_test_ts.view(-1, 1)).sum().float() / len(y_test_ts)\n",
    "    print(f'Test: {round(accuracy12.item()*100,2)}%')\n",
    "\n",
    "print('-'*50)"
   ]
  },
  {
   "cell_type": "code",
   "execution_count": 238,
   "id": "f99e8d62",
   "metadata": {},
   "outputs": [
    {
     "name": "stdout",
     "output_type": "stream",
     "text": [
      "Epoch [1000/10000], Loss: 0.0852\n",
      "Epoch [2000/10000], Loss: 0.0210\n",
      "Epoch [3000/10000], Loss: 0.0086\n",
      "Epoch [4000/10000], Loss: 0.0039\n",
      "Epoch [5000/10000], Loss: 0.0019\n",
      "Epoch [6000/10000], Loss: 0.0010\n",
      "Epoch [7000/10000], Loss: 0.0005\n",
      "Epoch [8000/10000], Loss: 0.0003\n",
      "Epoch [9000/10000], Loss: 0.0002\n",
      "Epoch [10000/10000], Loss: 0.0001\n"
     ]
    }
   ],
   "source": [
    "torch.manual_seed(0)\n",
    "net2_2 = Net2_2()\n",
    "loss = nn.BCELoss() # Loss 함수는 BCE\n",
    "optimizer = optim.Adam(net2_2.parameters(),lr=0.01)\n",
    "\n",
    "num_epochs = 10000\n",
    "\n",
    "for epoch in range(num_epochs):\n",
    "   \n",
    "    pre = net2_2(X_train_ts)\n",
    "    cost = loss(pre, y_train_ts.view(-1,1))\n",
    "    \n",
    "    optimizer.zero_grad()\n",
    "    cost.backward()\n",
    "    optimizer.step()\n",
    "    \n",
    "    if (epoch+1)%1000 == 0:\n",
    "        print('Epoch [%d/%d], Loss: %.4f' %(epoch+1, num_epochs, cost.item()))"
   ]
  },
  {
   "cell_type": "code",
   "execution_count": 242,
   "id": "60ad8bc6",
   "metadata": {},
   "outputs": [
    {
     "name": "stdout",
     "output_type": "stream",
     "text": [
      "--------------------------------------------------\n",
      "Accuracy score of Neural Network\n",
      "--------------------------------------------------\n",
      "Validation: 68.35%\n",
      "Test: 78.48%\n",
      "--------------------------------------------------\n"
     ]
    }
   ],
   "source": [
    "print('-'*50)\n",
    "print('Accuracy score of Neural Network')\n",
    "print('-'*50)\n",
    "\n",
    "# 모델 평가 및 정확도 출력\n",
    "net2_2.eval()\n",
    "with torch.no_grad():\n",
    "    outputs = net2_2(X_val_ts)\n",
    "    predicted = torch.round(outputs)\n",
    "    accuracy13 = (predicted == y_val_ts.view(-1, 1)).sum().float() / len(y_val_ts)\n",
    "    print(f'Validation: {round(accuracy13.item()*100,2)}%')\n",
    "\n",
    "with torch.no_grad():\n",
    "    outputs = net2_2(X_test_ts)\n",
    "    predicted = torch.round(outputs)\n",
    "    accuracy13 = (predicted == y_test_ts.view(-1, 1)).sum().float() / len(y_test_ts)\n",
    "    print(f'Test: {round(accuracy13.item()*100,2)}%')\n",
    "\n",
    "print('-'*50)"
   ]
  },
  {
   "cell_type": "code",
   "execution_count": 254,
   "id": "3212e8a8",
   "metadata": {},
   "outputs": [
    {
     "data": {
      "image/png": "[encoded data removed]",
      "text/plain": [
       "<Figure size 800x600 with 1 Axes>"
      ]
     },
     "metadata": {},
     "output_type": "display_data"
    }
   ],
   "source": [
    "x = ['standardNN_m0_sigmoid','standardNN_m1_sigmoid','standardNN_m2_sigmoid',\n",
    "     'standardNN_m0_relu','standardNN_m1_relu','standardNN_m2_relu',\n",
    "     'robustNN_m0_sigmoid','robustNN_m1_sigmoid','robustNN_m2_sigmoid',\n",
    "     'robustNN_m0_relu','robustNN_m1_relu','robustNN_m2_relu']\n",
    "y = [round(accuracy2.item()*100,2),round(accuracy4.item()*100,2),round(accuracy6.item()*100,2),\n",
    "     round(accuracy8.item()*100,2),round(accuracy9.item()*100,2),round(accuracy10.item()*100,2),\n",
    "     round(accuracy3.item()*100,2),round(accuracy5.item()*100,2),round(accuracy7.item()*100,2),\n",
    "     round(accuracy11.item()*100,2),round(accuracy12.item()*100,2),round(accuracy13.item()*100,2)]\n",
    "\n",
    "# Bar plot 생성\n",
    "plt.figure(figsize=(8,6))\n",
    "plt.title('Comparing models with accuracy')\n",
    "plt.xlabel('Model')\n",
    "plt.ylabel('Accuracy Score')\n",
    "plt.bar(x, y, width=0.6, color=['pink','skyblue','gold'])\n",
    "plt.xticks(rotation=90)\n",
    "plt.ylim(60,100)\n",
    "for i, v in enumerate(x):\n",
    "    plt.text(v, y[i], y[i],\n",
    "            fontsize = 9,\n",
    "            horizontalalignment='center',\n",
    "            verticalalignment='bottom')"
   ]
  },
  {
   "cell_type": "code",
   "execution_count": 257,
   "id": "bb1c473e",
   "metadata": {},
   "outputs": [
    {
     "data": {
      "image/png": "[encoded data removed]",
      "text/plain": [
       "<Figure size 400x300 with 1 Axes>"
      ]
     },
     "metadata": {},
     "output_type": "display_data"
    }
   ],
   "source": [
    "x = ['orinigal','final']\n",
    "y = [round(accuracy.item()*100,2),round(accuracy2.item()*100,2)]\n",
    "\n",
    "# Bar plot 생성\n",
    "plt.figure(figsize=(4,3))\n",
    "plt.title('Comparing models with accuracy')\n",
    "plt.xlabel('Model')\n",
    "plt.ylabel('Accuracy Score')\n",
    "plt.bar(x, y, width=0.6, color=['pink','skyblue'])\n",
    "plt.xticks(rotation=90)\n",
    "plt.ylim(60,100)\n",
    "for i, v in enumerate(x):\n",
    "    plt.text(v, y[i], y[i],\n",
    "            fontsize = 9,\n",
    "            horizontalalignment='center',\n",
    "            verticalalignment='bottom')"
   ]
  },
  {
   "cell_type": "code",
   "execution_count": null,
   "id": "63393b9f",
   "metadata": {},
   "outputs": [],
   "source": []
  }
 ],
 "metadata": {
  "kernelspec": {
   "display_name": "Python 3 (ipykernel)",
   "language": "python",
   "name": "python3"
  },
  "language_info": {
   "codemirror_mode": {
    "name": "ipython",
    "version": 3
   },
   "file_extension": ".py",
   "mimetype": "text/x-python",
   "name": "python",
   "nbconvert_exporter": "python",
   "pygments_lexer": "ipython3",
   "version": "3.9.13"
  }
 },
 "nbformat": 4,
 "nbformat_minor": 5
}
